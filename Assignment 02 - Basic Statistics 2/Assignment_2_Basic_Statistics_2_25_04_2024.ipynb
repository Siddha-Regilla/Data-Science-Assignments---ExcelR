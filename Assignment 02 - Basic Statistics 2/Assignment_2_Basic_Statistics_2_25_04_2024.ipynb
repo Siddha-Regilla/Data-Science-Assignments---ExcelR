{
  "nbformat": 4,
  "nbformat_minor": 0,
  "metadata": {
    "colab": {
      "provenance": []
    },
    "kernelspec": {
      "name": "python3",
      "display_name": "Python 3"
    },
    "language_info": {
      "name": "python"
    }
  },
  "cells": [
    {
      "cell_type": "code",
      "execution_count": 1,
      "metadata": {
        "id": "wfoRezBJ1bq2"
      },
      "outputs": [],
      "source": [
        "#Importing libraries\n",
        "import pandas as pd\n",
        "import numpy as np\n",
        "from scipy import stats\n",
        "import matplotlib.pyplot as plt # for visualizations\n",
        "import seaborn as sns # for visualizations\n",
        "import warnings"
      ]
    },
    {
      "cell_type": "code",
      "source": [
        "#Importing functions from the above library\n",
        "warnings.filterwarnings('ignore')"
      ],
      "metadata": {
        "id": "5gyk69-_E8eD"
      },
      "execution_count": 2,
      "outputs": []
    },
    {
      "cell_type": "markdown",
      "source": [
        "a."
      ],
      "metadata": {
        "id": "zc08xGC-OxYG"
      }
    },
    {
      "cell_type": "code",
      "source": [
        "data = [1.13, 1.55, 1.43, 0.92, 1.25, 1.36, 1.32, 0.85, 1.07, 1.48, 1.20, 1.33, 1.18, 1.22, 1.29]"
      ],
      "metadata": {
        "id": "8MHuFoxOFGOh"
      },
      "execution_count": 15,
      "outputs": []
    },
    {
      "cell_type": "code",
      "source": [
        "x = np.mean(data)   # Sample mean (x̄)\n",
        "s = np.std(data)    # Sample standard deviation (s)\n",
        "n = 15            # Sample size (n)\n",
        "df = n - 1        # Degrees of freedom (n - 1)\n"
      ],
      "metadata": {
        "id": "s-3RUqk4E-5F"
      },
      "execution_count": 16,
      "outputs": []
    },
    {
      "cell_type": "code",
      "source": [
        "# t_value for confidence level - 99%\n",
        "CL = 0.99\n",
        "t_value = stats.t.ppf((1+CL)/2, df)\n",
        "\n",
        "# max value = x + t_value * (s/√n)\n",
        "# min value = x-t_value * (s/√n)\n",
        "#margin of error (ME) = t_value * (s/√n)\n",
        "# Calculate the margin of error\n",
        "ME = t_value * (s / (n ** 0.5))\n",
        "\n",
        "# Calculate the confidence interval\n",
        "min_value = x - np.round(ME,4)\n",
        "max_value = x + np.round(ME,4)\n",
        "\n",
        "# Print the confidence interval\n",
        "print(\"99% Confidence Interval:\", (min_value,max_value))"
      ],
      "metadata": {
        "colab": {
          "base_uri": "https://localhost:8080/"
        },
        "id": "Wj33XJG7GSrT",
        "outputId": "bf06d5bc-9164-4100-966c-617ba4bc0f01"
      },
      "execution_count": 17,
      "outputs": [
        {
          "output_type": "stream",
          "name": "stdout",
          "text": [
            "99% Confidence Interval: (1.0952666666666666, 1.3820666666666666)\n"
          ]
        }
      ]
    },
    {
      "cell_type": "markdown",
      "source": [
        "b."
      ],
      "metadata": {
        "id": "c2oazZeLQ958"
      }
    },
    {
      "cell_type": "code",
      "source": [
        "data = [1.13, 1.55, 1.43, 0.92, 1.25, 1.36, 1.32, 0.85, 1.07, 1.48, 1.20, 1.33, 1.18, 1.22, 1.29]"
      ],
      "metadata": {
        "id": "iNisb5iJGoNN"
      },
      "execution_count": 18,
      "outputs": []
    },
    {
      "cell_type": "code",
      "source": [
        "x = np.mean(data) # Sample mean (x̄)\n",
        "ps = 0.2          # Population standard deviation (s)\n",
        "n = 15            # Sample size (n)\n"
      ],
      "metadata": {
        "id": "E9uJ_9zHG0RC"
      },
      "execution_count": 19,
      "outputs": []
    },
    {
      "cell_type": "code",
      "source": [
        "#Checking the confidence interval for Confidence level of 99%\n",
        "ci_99 = stats.norm.interval(0.99,\n",
        "loc = x,\n",
        "scale = ps)\n",
        "print( '99% confidence interval is:',np.round(ci_99,3))"
      ],
      "metadata": {
        "colab": {
          "base_uri": "https://localhost:8080/"
        },
        "id": "fDXvpJY0Sw25",
        "outputId": "2d7ec18e-7e1e-4b5d-8984-94b5fc054913"
      },
      "execution_count": 20,
      "outputs": [
        {
          "output_type": "stream",
          "name": "stdout",
          "text": [
            "99% confidence interval is: [0.724 1.754]\n"
          ]
        }
      ]
    },
    {
      "cell_type": "code",
      "source": [],
      "metadata": {
        "id": "S18Yo0VFTXrs"
      },
      "execution_count": 20,
      "outputs": []
    }
  ]
}