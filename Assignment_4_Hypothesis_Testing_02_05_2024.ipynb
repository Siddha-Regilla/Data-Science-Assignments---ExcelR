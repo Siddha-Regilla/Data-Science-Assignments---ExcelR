{
  "nbformat": 4,
  "nbformat_minor": 0,
  "metadata": {
    "colab": {
      "provenance": [],
      "authorship_tag": "ABX9TyNTXOnrJg4XKdvrESvNqFKX",
      "include_colab_link": true
    },
    "kernelspec": {
      "name": "python3",
      "display_name": "Python 3"
    },
    "language_info": {
      "name": "python"
    }
  },
  "cells": [
    {
      "cell_type": "markdown",
      "metadata": {
        "id": "view-in-github",
        "colab_type": "text"
      },
      "source": [
        "<a href=\"https://colab.research.google.com/github/Siddha-Regilla/Data-Science-Assignments---ExcelR/blob/main/Assignment_4_Hypothesis_Testing_02_05_2024.ipynb\" target=\"_parent\"><img src=\"https://colab.research.google.com/assets/colab-badge.svg\" alt=\"Open In Colab\"/></a>"
      ]
    },
    {
      "cell_type": "code",
      "execution_count": 2,
      "metadata": {
        "id": "O0c64cnF1ab3"
      },
      "outputs": [],
      "source": [
        "#Importing libraries\n",
        "import pandas as pd\n",
        "import numpy as np\n",
        "import matplotlib.pyplot as plt # for visualizations\n",
        "import seaborn as sns # for visualizations\n",
        "import statsmodels.api as sm #for 2 proportion test\n",
        "import warnings\n",
        "import scipy\n",
        "from scipy import stats\n",
        "from scipy.stats import chi2_contingency"
      ]
    },
    {
      "cell_type": "code",
      "source": [
        "#Importing functions from the above library\n",
        "warnings.filterwarnings('ignore')"
      ],
      "metadata": {
        "id": "6PkWnViG1fui"
      },
      "execution_count": 3,
      "outputs": []
    },
    {
      "cell_type": "markdown",
      "source": [
        "# ***Hypothesis Testing***"
      ],
      "metadata": {
        "id": "jfevfKocskFU"
      }
    },
    {
      "cell_type": "code",
      "source": [
        " # Operating cost model of Bombay Hospitality Ltd.\n",
        " u = 1000 + 5 * 600 # Population/theoretical mean of weekly operating cost\n",
        " x = 3050           # Sample mean of weekly operating cost\n",
        " n = 25             # Sample size\n",
        " pop_s = 5 * 25     # Population Standard deviation\n",
        "\n",
        "# Step 1 - Defining our hypothesis\n",
        "# Ho - x = u;  The mean weekly operating cost is as per the theoretical model.\n",
        "# Ha - x > u;  The mean weekly operating cost is higher than the theoretical model.\n",
        "\n",
        "# The following is an example of 1 sample 1 tailed test\n",
        "\n",
        "# Step 2 - Identifying a test statistics\n",
        "# As we have population standard deviation we use z-test\n",
        "# First we calculate the z-value\n",
        "z_stat = (x - u) / (pop_s / np.sqrt(n))\n",
        "\n",
        "# Step 3: Define Significance Level (alpha)\n",
        "alpha = 0.05  # Significance level\n",
        "\n",
        "# Step 4 - comparing the z-value with the significance level and making a decision to reject or accept Null hypothesis (Ho)\n",
        "print(\"Test Statistic (z): \", z_stat)\n",
        "print(\"Significance Level (alpha): \", alpha)\n",
        "\n",
        "if z_stat > alpha:  # Compare z-statistic directly to alpha for one-tailed test\n",
        "    print(\"\\nz-statistics > significance level = \",z_stat,\" > \",alpha)\n",
        "    print(\"Reject Null Hypothesis (Ho). \\n!!The mean weekly operating cost is higher than the theoretical model!!\\n\",\n",
        "    \"There is strong evidence to support the restaurant owners' claim that the weekly operating costs are higher than the model suggests.\")\n",
        "else:\n",
        "    print(\"\\nz-statistics <= significance level = \",z_stat,\" <= \",alpha)\n",
        "    print(\"Accept Null Hypothesis (Ho). \\n\\n!!The mean weekly operating cost is as per the theoretical model!!\\n\",\n",
        "    \"There is not enough evidence to reject the current cost model based on the data provided.\")\n",
        "\n"
      ],
      "metadata": {
        "id": "IGBSgOy21ilj",
        "colab": {
          "base_uri": "https://localhost:8080/"
        },
        "outputId": "339fff45-9d2a-4388-ff3e-0c6fc01b2759"
      },
      "execution_count": null,
      "outputs": [
        {
          "output_type": "stream",
          "name": "stdout",
          "text": [
            "Test Statistic (z):  -38.0\n",
            "Significance Level (alpha):  0.05\n",
            "\n",
            "z-statistics <= significance level =  -38.0  <=  0.05\n",
            "Accept Null Hypothesis (Ho). \n",
            "\n",
            "!!The mean weekly operating cost is as per the theoretical model!!\n",
            " There is not enough evidence to reject the current cost model based on the data provided.\n"
          ]
        }
      ]
    },
    {
      "cell_type": "markdown",
      "source": [
        "# ***Chi-Square Test***"
      ],
      "metadata": {
        "id": "DjNzcRUdswKo"
      }
    },
    {
      "cell_type": "code",
      "source": [
        "# Association between Device Type and Customer Satisfaction\n",
        "# Defining the data from the table\n",
        "obs_data = np.array([\n",
        "    [50, 70],  # Very Satisfied (Thermostat, Lights)\n",
        "    [80, 100], # Satisfied (Thermostat, Lights)\n",
        "    [60, 90],  # Neutral (Thermostat, Lights)\n",
        "    [30, 50],  # Unsatisfied (Thermostat, Lights)\n",
        "    [20, 50],  # Very Unsatisfied (Thermostat, Lights)\n",
        "])\n",
        "\n",
        "# Step 1 - Defining our hypothesis\n",
        "''' Ho - Null Hypothesis - There is no significant association between the type of smart home device purchased\n",
        "                                (Smart Thermostat vs. Smart Lights) and the customer's satisfaction level.\n",
        "    Ha - Alternate Hypothesis - There is a significant association between the type of smart home device purchased\n",
        "                                and the customer's satisfaction level.  '''\n",
        "\n",
        "# Step 2 - Performing the Chi-square test - we use the chi2-statistics\n",
        "# First we calculate the p-value using chi2_contingency()\n",
        "# Then, we compare the p-value with the significance level - alpha value (alpha = 0.05)\n",
        "\n",
        "# On the above observed table we apply the chi2_contingency()\n",
        "X2_stat = Chisquares_results=stats.chi2_contingency(obs_data)\n",
        "X2_stat\n",
        "\n",
        "# Assigning the p-value\n",
        "p_val = X2_stat[1]\n",
        "a = 0.05\n",
        "\n",
        "# Step 3 -\n",
        "# If p-value > 0.05 - We accept the null hypothesis, Ho\n",
        "# If p-value <= 0.05 - We reject the null hypothesis, and accept alternate hypothesis, Ha\n",
        "\n",
        "if p_val < a: # If the p-value < alpha, we reject the null hypothesis; i.e., accept the alternate hypothesis\n",
        "  print(\"p-value < significance level = \",p_val,\" < \",a)\n",
        "  print(\"Reject Null Hypothesis (Ho).\",\n",
        "  \"\\n!!There is a significant association between the type of smart home device purchased and the customer's satisfaction level!!\")\n",
        "else: # If the p-value >= alpha, we accept the null hypothesis\n",
        "  print(\"p-value > significance level = \",p_val,\" > \",a)\n",
        "  print(\"Accept Null Hypothesis (Ho).\",\n",
        "  \"\\n!!There is no significant association between the type of smart home device purchased and the customer's satisfaction level!!\")"
      ],
      "metadata": {
        "id": "7KK5DLY7suSr",
        "colab": {
          "base_uri": "https://localhost:8080/"
        },
        "outputId": "29fe8b00-53f7-4f45-b5a6-eee7de5b3888"
      },
      "execution_count": 4,
      "outputs": [
        {
          "output_type": "stream",
          "name": "stdout",
          "text": [
            "p-value > significance level =  0.22784371130697179  >  0.05\n",
            "Accept Null Hypothesis (Ho). \n",
            "!!There is no significant association between the type of smart home device purchased and the customer's satisfaction level!!\n"
          ]
        }
      ]
    }
  ]
}