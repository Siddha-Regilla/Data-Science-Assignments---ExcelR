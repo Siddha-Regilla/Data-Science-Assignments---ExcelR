{
  "nbformat": 4,
  "nbformat_minor": 0,
  "metadata": {
    "colab": {
      "provenance": [],
      "collapsed_sections": [
        "-Vr8aaudp70Z",
        "5BaCLw0u59xs",
        "pjriSwh4hU7j",
        "IAnY8MRMYD9f",
        "KUWm5liHHsU1",
        "c3OmVFg3T49W",
        "GRLNqPjiVv6-"
      ]
    },
    "kernelspec": {
      "name": "python3",
      "display_name": "Python 3"
    },
    "language_info": {
      "name": "python"
    }
  },
  "cells": [
    {
      "cell_type": "code",
      "execution_count": 1,
      "metadata": {
        "id": "RUmE11gFnlsh"
      },
      "outputs": [],
      "source": [
        "#Importing libraries\n",
        "import pandas as pd\n",
        "import numpy as np\n",
        "from scipy import stats\n",
        "import matplotlib.pyplot as plt # for visualizations\n",
        "import seaborn as sns # for visualizations\n",
        "import warnings"
      ]
    },
    {
      "cell_type": "code",
      "source": [
        "#Importing functions from the above library\n",
        "warnings.filterwarnings('ignore')"
      ],
      "metadata": {
        "id": "UT0Q7NvWM3Av"
      },
      "execution_count": null,
      "outputs": []
    },
    {
      "cell_type": "code",
      "source": [
        "# Q7, Q9, Q20 - Cars.csv, Q21 - Cars.csv & wc-at.csv"
      ],
      "metadata": {
        "id": "WO9FTyvwHjQX"
      },
      "execution_count": null,
      "outputs": []
    },
    {
      "cell_type": "markdown",
      "source": [
        "# ***Q7.***"
      ],
      "metadata": {
        "id": "-Vr8aaudp70Z"
      }
    },
    {
      "cell_type": "code",
      "source": [
        "#from google.colab import files\n",
        "#uploaded = files.upload()"
      ],
      "metadata": {
        "id": "udu6HdBloZcY"
      },
      "execution_count": null,
      "outputs": []
    },
    {
      "cell_type": "code",
      "source": [
        "data = pd.read_csv('Q7.csv')"
      ],
      "metadata": {
        "id": "WTodndZppz-N"
      },
      "execution_count": null,
      "outputs": []
    },
    {
      "cell_type": "code",
      "source": [
        "data.describe()"
      ],
      "metadata": {
        "colab": {
          "base_uri": "https://localhost:8080/",
          "height": 300
        },
        "id": "YJUw2Ho0q-0H",
        "outputId": "a8e7139f-bf73-4561-e001-20aec35ada36"
      },
      "execution_count": null,
      "outputs": [
        {
          "output_type": "execute_result",
          "data": {
            "text/plain": [
              "          Points      Score      Weigh\n",
              "count  32.000000  32.000000  32.000000\n",
              "mean    3.596563   3.217250  17.848750\n",
              "std     0.534679   0.978457   1.786943\n",
              "min     2.760000   1.513000  14.500000\n",
              "25%     3.080000   2.581250  16.892500\n",
              "50%     3.695000   3.325000  17.710000\n",
              "75%     3.920000   3.610000  18.900000\n",
              "max     4.930000   5.424000  22.900000"
            ],
            "text/html": [
              "\n",
              "  <div id=\"df-49f61cd4-053a-4ee2-97fc-1497ab0225bf\" class=\"colab-df-container\">\n",
              "    <div>\n",
              "<style scoped>\n",
              "    .dataframe tbody tr th:only-of-type {\n",
              "        vertical-align: middle;\n",
              "    }\n",
              "\n",
              "    .dataframe tbody tr th {\n",
              "        vertical-align: top;\n",
              "    }\n",
              "\n",
              "    .dataframe thead th {\n",
              "        text-align: right;\n",
              "    }\n",
              "</style>\n",
              "<table border=\"1\" class=\"dataframe\">\n",
              "  <thead>\n",
              "    <tr style=\"text-align: right;\">\n",
              "      <th></th>\n",
              "      <th>Points</th>\n",
              "      <th>Score</th>\n",
              "      <th>Weigh</th>\n",
              "    </tr>\n",
              "  </thead>\n",
              "  <tbody>\n",
              "    <tr>\n",
              "      <th>count</th>\n",
              "      <td>32.000000</td>\n",
              "      <td>32.000000</td>\n",
              "      <td>32.000000</td>\n",
              "    </tr>\n",
              "    <tr>\n",
              "      <th>mean</th>\n",
              "      <td>3.596563</td>\n",
              "      <td>3.217250</td>\n",
              "      <td>17.848750</td>\n",
              "    </tr>\n",
              "    <tr>\n",
              "      <th>std</th>\n",
              "      <td>0.534679</td>\n",
              "      <td>0.978457</td>\n",
              "      <td>1.786943</td>\n",
              "    </tr>\n",
              "    <tr>\n",
              "      <th>min</th>\n",
              "      <td>2.760000</td>\n",
              "      <td>1.513000</td>\n",
              "      <td>14.500000</td>\n",
              "    </tr>\n",
              "    <tr>\n",
              "      <th>25%</th>\n",
              "      <td>3.080000</td>\n",
              "      <td>2.581250</td>\n",
              "      <td>16.892500</td>\n",
              "    </tr>\n",
              "    <tr>\n",
              "      <th>50%</th>\n",
              "      <td>3.695000</td>\n",
              "      <td>3.325000</td>\n",
              "      <td>17.710000</td>\n",
              "    </tr>\n",
              "    <tr>\n",
              "      <th>75%</th>\n",
              "      <td>3.920000</td>\n",
              "      <td>3.610000</td>\n",
              "      <td>18.900000</td>\n",
              "    </tr>\n",
              "    <tr>\n",
              "      <th>max</th>\n",
              "      <td>4.930000</td>\n",
              "      <td>5.424000</td>\n",
              "      <td>22.900000</td>\n",
              "    </tr>\n",
              "  </tbody>\n",
              "</table>\n",
              "</div>\n",
              "    <div class=\"colab-df-buttons\">\n",
              "\n",
              "  <div class=\"colab-df-container\">\n",
              "    <button class=\"colab-df-convert\" onclick=\"convertToInteractive('df-49f61cd4-053a-4ee2-97fc-1497ab0225bf')\"\n",
              "            title=\"Convert this dataframe to an interactive table.\"\n",
              "            style=\"display:none;\">\n",
              "\n",
              "  <svg xmlns=\"http://www.w3.org/2000/svg\" height=\"24px\" viewBox=\"0 -960 960 960\">\n",
              "    <path d=\"M120-120v-720h720v720H120Zm60-500h600v-160H180v160Zm220 220h160v-160H400v160Zm0 220h160v-160H400v160ZM180-400h160v-160H180v160Zm440 0h160v-160H620v160ZM180-180h160v-160H180v160Zm440 0h160v-160H620v160Z\"/>\n",
              "  </svg>\n",
              "    </button>\n",
              "\n",
              "  <style>\n",
              "    .colab-df-container {\n",
              "      display:flex;\n",
              "      gap: 12px;\n",
              "    }\n",
              "\n",
              "    .colab-df-convert {\n",
              "      background-color: #E8F0FE;\n",
              "      border: none;\n",
              "      border-radius: 50%;\n",
              "      cursor: pointer;\n",
              "      display: none;\n",
              "      fill: #1967D2;\n",
              "      height: 32px;\n",
              "      padding: 0 0 0 0;\n",
              "      width: 32px;\n",
              "    }\n",
              "\n",
              "    .colab-df-convert:hover {\n",
              "      background-color: #E2EBFA;\n",
              "      box-shadow: 0px 1px 2px rgba(60, 64, 67, 0.3), 0px 1px 3px 1px rgba(60, 64, 67, 0.15);\n",
              "      fill: #174EA6;\n",
              "    }\n",
              "\n",
              "    .colab-df-buttons div {\n",
              "      margin-bottom: 4px;\n",
              "    }\n",
              "\n",
              "    [theme=dark] .colab-df-convert {\n",
              "      background-color: #3B4455;\n",
              "      fill: #D2E3FC;\n",
              "    }\n",
              "\n",
              "    [theme=dark] .colab-df-convert:hover {\n",
              "      background-color: #434B5C;\n",
              "      box-shadow: 0px 1px 3px 1px rgba(0, 0, 0, 0.15);\n",
              "      filter: drop-shadow(0px 1px 2px rgba(0, 0, 0, 0.3));\n",
              "      fill: #FFFFFF;\n",
              "    }\n",
              "  </style>\n",
              "\n",
              "    <script>\n",
              "      const buttonEl =\n",
              "        document.querySelector('#df-49f61cd4-053a-4ee2-97fc-1497ab0225bf button.colab-df-convert');\n",
              "      buttonEl.style.display =\n",
              "        google.colab.kernel.accessAllowed ? 'block' : 'none';\n",
              "\n",
              "      async function convertToInteractive(key) {\n",
              "        const element = document.querySelector('#df-49f61cd4-053a-4ee2-97fc-1497ab0225bf');\n",
              "        const dataTable =\n",
              "          await google.colab.kernel.invokeFunction('convertToInteractive',\n",
              "                                                    [key], {});\n",
              "        if (!dataTable) return;\n",
              "\n",
              "        const docLinkHtml = 'Like what you see? Visit the ' +\n",
              "          '<a target=\"_blank\" href=https://colab.research.google.com/notebooks/data_table.ipynb>data table notebook</a>'\n",
              "          + ' to learn more about interactive tables.';\n",
              "        element.innerHTML = '';\n",
              "        dataTable['output_type'] = 'display_data';\n",
              "        await google.colab.output.renderOutput(dataTable, element);\n",
              "        const docLink = document.createElement('div');\n",
              "        docLink.innerHTML = docLinkHtml;\n",
              "        element.appendChild(docLink);\n",
              "      }\n",
              "    </script>\n",
              "  </div>\n",
              "\n",
              "\n",
              "<div id=\"df-69ffb3d6-9269-4b3e-bef5-7b482a2bab0c\">\n",
              "  <button class=\"colab-df-quickchart\" onclick=\"quickchart('df-69ffb3d6-9269-4b3e-bef5-7b482a2bab0c')\"\n",
              "            title=\"Suggest charts\"\n",
              "            style=\"display:none;\">\n",
              "\n",
              "<svg xmlns=\"http://www.w3.org/2000/svg\" height=\"24px\"viewBox=\"0 0 24 24\"\n",
              "     width=\"24px\">\n",
              "    <g>\n",
              "        <path d=\"M19 3H5c-1.1 0-2 .9-2 2v14c0 1.1.9 2 2 2h14c1.1 0 2-.9 2-2V5c0-1.1-.9-2-2-2zM9 17H7v-7h2v7zm4 0h-2V7h2v10zm4 0h-2v-4h2v4z\"/>\n",
              "    </g>\n",
              "</svg>\n",
              "  </button>\n",
              "\n",
              "<style>\n",
              "  .colab-df-quickchart {\n",
              "      --bg-color: #E8F0FE;\n",
              "      --fill-color: #1967D2;\n",
              "      --hover-bg-color: #E2EBFA;\n",
              "      --hover-fill-color: #174EA6;\n",
              "      --disabled-fill-color: #AAA;\n",
              "      --disabled-bg-color: #DDD;\n",
              "  }\n",
              "\n",
              "  [theme=dark] .colab-df-quickchart {\n",
              "      --bg-color: #3B4455;\n",
              "      --fill-color: #D2E3FC;\n",
              "      --hover-bg-color: #434B5C;\n",
              "      --hover-fill-color: #FFFFFF;\n",
              "      --disabled-bg-color: #3B4455;\n",
              "      --disabled-fill-color: #666;\n",
              "  }\n",
              "\n",
              "  .colab-df-quickchart {\n",
              "    background-color: var(--bg-color);\n",
              "    border: none;\n",
              "    border-radius: 50%;\n",
              "    cursor: pointer;\n",
              "    display: none;\n",
              "    fill: var(--fill-color);\n",
              "    height: 32px;\n",
              "    padding: 0;\n",
              "    width: 32px;\n",
              "  }\n",
              "\n",
              "  .colab-df-quickchart:hover {\n",
              "    background-color: var(--hover-bg-color);\n",
              "    box-shadow: 0 1px 2px rgba(60, 64, 67, 0.3), 0 1px 3px 1px rgba(60, 64, 67, 0.15);\n",
              "    fill: var(--button-hover-fill-color);\n",
              "  }\n",
              "\n",
              "  .colab-df-quickchart-complete:disabled,\n",
              "  .colab-df-quickchart-complete:disabled:hover {\n",
              "    background-color: var(--disabled-bg-color);\n",
              "    fill: var(--disabled-fill-color);\n",
              "    box-shadow: none;\n",
              "  }\n",
              "\n",
              "  .colab-df-spinner {\n",
              "    border: 2px solid var(--fill-color);\n",
              "    border-color: transparent;\n",
              "    border-bottom-color: var(--fill-color);\n",
              "    animation:\n",
              "      spin 1s steps(1) infinite;\n",
              "  }\n",
              "\n",
              "  @keyframes spin {\n",
              "    0% {\n",
              "      border-color: transparent;\n",
              "      border-bottom-color: var(--fill-color);\n",
              "      border-left-color: var(--fill-color);\n",
              "    }\n",
              "    20% {\n",
              "      border-color: transparent;\n",
              "      border-left-color: var(--fill-color);\n",
              "      border-top-color: var(--fill-color);\n",
              "    }\n",
              "    30% {\n",
              "      border-color: transparent;\n",
              "      border-left-color: var(--fill-color);\n",
              "      border-top-color: var(--fill-color);\n",
              "      border-right-color: var(--fill-color);\n",
              "    }\n",
              "    40% {\n",
              "      border-color: transparent;\n",
              "      border-right-color: var(--fill-color);\n",
              "      border-top-color: var(--fill-color);\n",
              "    }\n",
              "    60% {\n",
              "      border-color: transparent;\n",
              "      border-right-color: var(--fill-color);\n",
              "    }\n",
              "    80% {\n",
              "      border-color: transparent;\n",
              "      border-right-color: var(--fill-color);\n",
              "      border-bottom-color: var(--fill-color);\n",
              "    }\n",
              "    90% {\n",
              "      border-color: transparent;\n",
              "      border-bottom-color: var(--fill-color);\n",
              "    }\n",
              "  }\n",
              "</style>\n",
              "\n",
              "  <script>\n",
              "    async function quickchart(key) {\n",
              "      const quickchartButtonEl =\n",
              "        document.querySelector('#' + key + ' button');\n",
              "      quickchartButtonEl.disabled = true;  // To prevent multiple clicks.\n",
              "      quickchartButtonEl.classList.add('colab-df-spinner');\n",
              "      try {\n",
              "        const charts = await google.colab.kernel.invokeFunction(\n",
              "            'suggestCharts', [key], {});\n",
              "      } catch (error) {\n",
              "        console.error('Error during call to suggestCharts:', error);\n",
              "      }\n",
              "      quickchartButtonEl.classList.remove('colab-df-spinner');\n",
              "      quickchartButtonEl.classList.add('colab-df-quickchart-complete');\n",
              "    }\n",
              "    (() => {\n",
              "      let quickchartButtonEl =\n",
              "        document.querySelector('#df-69ffb3d6-9269-4b3e-bef5-7b482a2bab0c button');\n",
              "      quickchartButtonEl.style.display =\n",
              "        google.colab.kernel.accessAllowed ? 'block' : 'none';\n",
              "    })();\n",
              "  </script>\n",
              "</div>\n",
              "\n",
              "    </div>\n",
              "  </div>\n"
            ],
            "application/vnd.google.colaboratory.intrinsic+json": {
              "type": "dataframe",
              "summary": "{\n  \"name\": \"data\",\n  \"rows\": 8,\n  \"fields\": [\n    {\n      \"column\": \"Points\",\n      \"properties\": {\n        \"dtype\": \"number\",\n        \"std\": 10.25494235098045,\n        \"min\": 0.5346787360709715,\n        \"max\": 32.0,\n        \"num_unique_values\": 8,\n        \"samples\": [\n          3.5965625,\n          3.6950000000000003,\n          32.0\n        ],\n        \"semantic_type\": \"\",\n        \"description\": \"\"\n      }\n    },\n    {\n      \"column\": \"Score\",\n      \"properties\": {\n        \"dtype\": \"number\",\n        \"std\": 10.359802177603342,\n        \"min\": 0.9784574429896966,\n        \"max\": 32.0,\n        \"num_unique_values\": 8,\n        \"samples\": [\n          3.2172500000000004,\n          3.325,\n          32.0\n        ],\n        \"semantic_type\": \"\",\n        \"description\": \"\"\n      }\n    },\n    {\n      \"column\": \"Weigh\",\n      \"properties\": {\n        \"dtype\": \"number\",\n        \"std\": 8.426146658426392,\n        \"min\": 1.7869432360968431,\n        \"max\": 32.0,\n        \"num_unique_values\": 8,\n        \"samples\": [\n          17.848750000000003,\n          17.71,\n          32.0\n        ],\n        \"semantic_type\": \"\",\n        \"description\": \"\"\n      }\n    }\n  ]\n}"
            }
          },
          "metadata": {},
          "execution_count": 36
        }
      ]
    },
    {
      "cell_type": "code",
      "source": [
        "#Dropping the non-numeric column\n",
        "data=data.drop(data.columns[0],axis=1)"
      ],
      "metadata": {
        "id": "9JvSKN6oPrHy"
      },
      "execution_count": null,
      "outputs": []
    },
    {
      "cell_type": "code",
      "source": [
        "data.mean() #mean of 'Points, Score & Weigh'"
      ],
      "metadata": {
        "colab": {
          "base_uri": "https://localhost:8080/"
        },
        "id": "fRDJKhedrAuy",
        "outputId": "16088283-7f7d-4d1e-c5c5-66f212ad0159"
      },
      "execution_count": null,
      "outputs": [
        {
          "output_type": "execute_result",
          "data": {
            "text/plain": [
              "Points     3.596563\n",
              "Score      3.217250\n",
              "Weigh     17.848750\n",
              "dtype: float64"
            ]
          },
          "metadata": {},
          "execution_count": 38
        }
      ]
    },
    {
      "cell_type": "code",
      "source": [
        "data.median() #median of 'Points, Score & Weigh'"
      ],
      "metadata": {
        "id": "sb304lm1rERQ",
        "colab": {
          "base_uri": "https://localhost:8080/"
        },
        "outputId": "3d41086f-0b41-43da-b501-cb4a145d6261"
      },
      "execution_count": null,
      "outputs": [
        {
          "output_type": "execute_result",
          "data": {
            "text/plain": [
              "Points     3.695\n",
              "Score      3.325\n",
              "Weigh     17.710\n",
              "dtype: float64"
            ]
          },
          "metadata": {},
          "execution_count": 39
        }
      ]
    },
    {
      "cell_type": "code",
      "source": [
        "data[['Points','Score','Weigh']].mode() #mode of 'Points, Score & Weigh'"
      ],
      "metadata": {
        "id": "GIXVGJzJfuFa",
        "colab": {
          "base_uri": "https://localhost:8080/",
          "height": 112
        },
        "outputId": "82df0ad0-f4f6-42fc-d22c-b5f1db4825cb"
      },
      "execution_count": null,
      "outputs": [
        {
          "output_type": "execute_result",
          "data": {
            "text/plain": [
              "   Points  Score  Weigh\n",
              "0    3.07   3.44  17.02\n",
              "1    3.92    NaN  18.90"
            ],
            "text/html": [
              "\n",
              "  <div id=\"df-2e4a628e-b39c-48b8-9434-22bb94ace24d\" class=\"colab-df-container\">\n",
              "    <div>\n",
              "<style scoped>\n",
              "    .dataframe tbody tr th:only-of-type {\n",
              "        vertical-align: middle;\n",
              "    }\n",
              "\n",
              "    .dataframe tbody tr th {\n",
              "        vertical-align: top;\n",
              "    }\n",
              "\n",
              "    .dataframe thead th {\n",
              "        text-align: right;\n",
              "    }\n",
              "</style>\n",
              "<table border=\"1\" class=\"dataframe\">\n",
              "  <thead>\n",
              "    <tr style=\"text-align: right;\">\n",
              "      <th></th>\n",
              "      <th>Points</th>\n",
              "      <th>Score</th>\n",
              "      <th>Weigh</th>\n",
              "    </tr>\n",
              "  </thead>\n",
              "  <tbody>\n",
              "    <tr>\n",
              "      <th>0</th>\n",
              "      <td>3.07</td>\n",
              "      <td>3.44</td>\n",
              "      <td>17.02</td>\n",
              "    </tr>\n",
              "    <tr>\n",
              "      <th>1</th>\n",
              "      <td>3.92</td>\n",
              "      <td>NaN</td>\n",
              "      <td>18.90</td>\n",
              "    </tr>\n",
              "  </tbody>\n",
              "</table>\n",
              "</div>\n",
              "    <div class=\"colab-df-buttons\">\n",
              "\n",
              "  <div class=\"colab-df-container\">\n",
              "    <button class=\"colab-df-convert\" onclick=\"convertToInteractive('df-2e4a628e-b39c-48b8-9434-22bb94ace24d')\"\n",
              "            title=\"Convert this dataframe to an interactive table.\"\n",
              "            style=\"display:none;\">\n",
              "\n",
              "  <svg xmlns=\"http://www.w3.org/2000/svg\" height=\"24px\" viewBox=\"0 -960 960 960\">\n",
              "    <path d=\"M120-120v-720h720v720H120Zm60-500h600v-160H180v160Zm220 220h160v-160H400v160Zm0 220h160v-160H400v160ZM180-400h160v-160H180v160Zm440 0h160v-160H620v160ZM180-180h160v-160H180v160Zm440 0h160v-160H620v160Z\"/>\n",
              "  </svg>\n",
              "    </button>\n",
              "\n",
              "  <style>\n",
              "    .colab-df-container {\n",
              "      display:flex;\n",
              "      gap: 12px;\n",
              "    }\n",
              "\n",
              "    .colab-df-convert {\n",
              "      background-color: #E8F0FE;\n",
              "      border: none;\n",
              "      border-radius: 50%;\n",
              "      cursor: pointer;\n",
              "      display: none;\n",
              "      fill: #1967D2;\n",
              "      height: 32px;\n",
              "      padding: 0 0 0 0;\n",
              "      width: 32px;\n",
              "    }\n",
              "\n",
              "    .colab-df-convert:hover {\n",
              "      background-color: #E2EBFA;\n",
              "      box-shadow: 0px 1px 2px rgba(60, 64, 67, 0.3), 0px 1px 3px 1px rgba(60, 64, 67, 0.15);\n",
              "      fill: #174EA6;\n",
              "    }\n",
              "\n",
              "    .colab-df-buttons div {\n",
              "      margin-bottom: 4px;\n",
              "    }\n",
              "\n",
              "    [theme=dark] .colab-df-convert {\n",
              "      background-color: #3B4455;\n",
              "      fill: #D2E3FC;\n",
              "    }\n",
              "\n",
              "    [theme=dark] .colab-df-convert:hover {\n",
              "      background-color: #434B5C;\n",
              "      box-shadow: 0px 1px 3px 1px rgba(0, 0, 0, 0.15);\n",
              "      filter: drop-shadow(0px 1px 2px rgba(0, 0, 0, 0.3));\n",
              "      fill: #FFFFFF;\n",
              "    }\n",
              "  </style>\n",
              "\n",
              "    <script>\n",
              "      const buttonEl =\n",
              "        document.querySelector('#df-2e4a628e-b39c-48b8-9434-22bb94ace24d button.colab-df-convert');\n",
              "      buttonEl.style.display =\n",
              "        google.colab.kernel.accessAllowed ? 'block' : 'none';\n",
              "\n",
              "      async function convertToInteractive(key) {\n",
              "        const element = document.querySelector('#df-2e4a628e-b39c-48b8-9434-22bb94ace24d');\n",
              "        const dataTable =\n",
              "          await google.colab.kernel.invokeFunction('convertToInteractive',\n",
              "                                                    [key], {});\n",
              "        if (!dataTable) return;\n",
              "\n",
              "        const docLinkHtml = 'Like what you see? Visit the ' +\n",
              "          '<a target=\"_blank\" href=https://colab.research.google.com/notebooks/data_table.ipynb>data table notebook</a>'\n",
              "          + ' to learn more about interactive tables.';\n",
              "        element.innerHTML = '';\n",
              "        dataTable['output_type'] = 'display_data';\n",
              "        await google.colab.output.renderOutput(dataTable, element);\n",
              "        const docLink = document.createElement('div');\n",
              "        docLink.innerHTML = docLinkHtml;\n",
              "        element.appendChild(docLink);\n",
              "      }\n",
              "    </script>\n",
              "  </div>\n",
              "\n",
              "\n",
              "<div id=\"df-2023517f-85d1-4f97-9ef4-17747f1cef41\">\n",
              "  <button class=\"colab-df-quickchart\" onclick=\"quickchart('df-2023517f-85d1-4f97-9ef4-17747f1cef41')\"\n",
              "            title=\"Suggest charts\"\n",
              "            style=\"display:none;\">\n",
              "\n",
              "<svg xmlns=\"http://www.w3.org/2000/svg\" height=\"24px\"viewBox=\"0 0 24 24\"\n",
              "     width=\"24px\">\n",
              "    <g>\n",
              "        <path d=\"M19 3H5c-1.1 0-2 .9-2 2v14c0 1.1.9 2 2 2h14c1.1 0 2-.9 2-2V5c0-1.1-.9-2-2-2zM9 17H7v-7h2v7zm4 0h-2V7h2v10zm4 0h-2v-4h2v4z\"/>\n",
              "    </g>\n",
              "</svg>\n",
              "  </button>\n",
              "\n",
              "<style>\n",
              "  .colab-df-quickchart {\n",
              "      --bg-color: #E8F0FE;\n",
              "      --fill-color: #1967D2;\n",
              "      --hover-bg-color: #E2EBFA;\n",
              "      --hover-fill-color: #174EA6;\n",
              "      --disabled-fill-color: #AAA;\n",
              "      --disabled-bg-color: #DDD;\n",
              "  }\n",
              "\n",
              "  [theme=dark] .colab-df-quickchart {\n",
              "      --bg-color: #3B4455;\n",
              "      --fill-color: #D2E3FC;\n",
              "      --hover-bg-color: #434B5C;\n",
              "      --hover-fill-color: #FFFFFF;\n",
              "      --disabled-bg-color: #3B4455;\n",
              "      --disabled-fill-color: #666;\n",
              "  }\n",
              "\n",
              "  .colab-df-quickchart {\n",
              "    background-color: var(--bg-color);\n",
              "    border: none;\n",
              "    border-radius: 50%;\n",
              "    cursor: pointer;\n",
              "    display: none;\n",
              "    fill: var(--fill-color);\n",
              "    height: 32px;\n",
              "    padding: 0;\n",
              "    width: 32px;\n",
              "  }\n",
              "\n",
              "  .colab-df-quickchart:hover {\n",
              "    background-color: var(--hover-bg-color);\n",
              "    box-shadow: 0 1px 2px rgba(60, 64, 67, 0.3), 0 1px 3px 1px rgba(60, 64, 67, 0.15);\n",
              "    fill: var(--button-hover-fill-color);\n",
              "  }\n",
              "\n",
              "  .colab-df-quickchart-complete:disabled,\n",
              "  .colab-df-quickchart-complete:disabled:hover {\n",
              "    background-color: var(--disabled-bg-color);\n",
              "    fill: var(--disabled-fill-color);\n",
              "    box-shadow: none;\n",
              "  }\n",
              "\n",
              "  .colab-df-spinner {\n",
              "    border: 2px solid var(--fill-color);\n",
              "    border-color: transparent;\n",
              "    border-bottom-color: var(--fill-color);\n",
              "    animation:\n",
              "      spin 1s steps(1) infinite;\n",
              "  }\n",
              "\n",
              "  @keyframes spin {\n",
              "    0% {\n",
              "      border-color: transparent;\n",
              "      border-bottom-color: var(--fill-color);\n",
              "      border-left-color: var(--fill-color);\n",
              "    }\n",
              "    20% {\n",
              "      border-color: transparent;\n",
              "      border-left-color: var(--fill-color);\n",
              "      border-top-color: var(--fill-color);\n",
              "    }\n",
              "    30% {\n",
              "      border-color: transparent;\n",
              "      border-left-color: var(--fill-color);\n",
              "      border-top-color: var(--fill-color);\n",
              "      border-right-color: var(--fill-color);\n",
              "    }\n",
              "    40% {\n",
              "      border-color: transparent;\n",
              "      border-right-color: var(--fill-color);\n",
              "      border-top-color: var(--fill-color);\n",
              "    }\n",
              "    60% {\n",
              "      border-color: transparent;\n",
              "      border-right-color: var(--fill-color);\n",
              "    }\n",
              "    80% {\n",
              "      border-color: transparent;\n",
              "      border-right-color: var(--fill-color);\n",
              "      border-bottom-color: var(--fill-color);\n",
              "    }\n",
              "    90% {\n",
              "      border-color: transparent;\n",
              "      border-bottom-color: var(--fill-color);\n",
              "    }\n",
              "  }\n",
              "</style>\n",
              "\n",
              "  <script>\n",
              "    async function quickchart(key) {\n",
              "      const quickchartButtonEl =\n",
              "        document.querySelector('#' + key + ' button');\n",
              "      quickchartButtonEl.disabled = true;  // To prevent multiple clicks.\n",
              "      quickchartButtonEl.classList.add('colab-df-spinner');\n",
              "      try {\n",
              "        const charts = await google.colab.kernel.invokeFunction(\n",
              "            'suggestCharts', [key], {});\n",
              "      } catch (error) {\n",
              "        console.error('Error during call to suggestCharts:', error);\n",
              "      }\n",
              "      quickchartButtonEl.classList.remove('colab-df-spinner');\n",
              "      quickchartButtonEl.classList.add('colab-df-quickchart-complete');\n",
              "    }\n",
              "    (() => {\n",
              "      let quickchartButtonEl =\n",
              "        document.querySelector('#df-2023517f-85d1-4f97-9ef4-17747f1cef41 button');\n",
              "      quickchartButtonEl.style.display =\n",
              "        google.colab.kernel.accessAllowed ? 'block' : 'none';\n",
              "    })();\n",
              "  </script>\n",
              "</div>\n",
              "\n",
              "    </div>\n",
              "  </div>\n"
            ],
            "application/vnd.google.colaboratory.intrinsic+json": {
              "type": "dataframe",
              "summary": "{\n  \"name\": \"data[['Points','Score','Weigh']]\",\n  \"rows\": 2,\n  \"fields\": [\n    {\n      \"column\": \"Points\",\n      \"properties\": {\n        \"dtype\": \"number\",\n        \"std\": 0.6010407640085654,\n        \"min\": 3.07,\n        \"max\": 3.92,\n        \"num_unique_values\": 2,\n        \"samples\": [\n          3.92,\n          3.07\n        ],\n        \"semantic_type\": \"\",\n        \"description\": \"\"\n      }\n    },\n    {\n      \"column\": \"Score\",\n      \"properties\": {\n        \"dtype\": \"number\",\n        \"std\": null,\n        \"min\": 3.44,\n        \"max\": 3.44,\n        \"num_unique_values\": 1,\n        \"samples\": [\n          3.44\n        ],\n        \"semantic_type\": \"\",\n        \"description\": \"\"\n      }\n    },\n    {\n      \"column\": \"Weigh\",\n      \"properties\": {\n        \"dtype\": \"number\",\n        \"std\": 1.3293607486307086,\n        \"min\": 17.02,\n        \"max\": 18.9,\n        \"num_unique_values\": 2,\n        \"samples\": [\n          18.9\n        ],\n        \"semantic_type\": \"\",\n        \"description\": \"\"\n      }\n    }\n  ]\n}"
            }
          },
          "metadata": {},
          "execution_count": 40
        }
      ]
    },
    {
      "cell_type": "code",
      "source": [
        "data.std() #standard deviation of 'Points, Score & Weigh'"
      ],
      "metadata": {
        "id": "qJxSolB_rHtw",
        "colab": {
          "base_uri": "https://localhost:8080/"
        },
        "outputId": "f1004540-79cc-4286-e2b1-c2b4adbff969"
      },
      "execution_count": null,
      "outputs": [
        {
          "output_type": "execute_result",
          "data": {
            "text/plain": [
              "Points    0.534679\n",
              "Score     0.978457\n",
              "Weigh     1.786943\n",
              "dtype: float64"
            ]
          },
          "metadata": {},
          "execution_count": 41
        }
      ]
    },
    {
      "cell_type": "code",
      "source": [
        "data.var() #variance of 'Points, Score & Weigh'"
      ],
      "metadata": {
        "id": "ENIaZ1yYf_pB",
        "colab": {
          "base_uri": "https://localhost:8080/"
        },
        "outputId": "8863c59f-2f57-43cc-d68f-a963a64fe1ec"
      },
      "execution_count": null,
      "outputs": [
        {
          "output_type": "execute_result",
          "data": {
            "text/plain": [
              "Points    0.285881\n",
              "Score     0.957379\n",
              "Weigh     3.193166\n",
              "dtype: float64"
            ]
          },
          "metadata": {},
          "execution_count": 42
        }
      ]
    },
    {
      "cell_type": "code",
      "source": [
        "data[['Points','Score','Weigh']].agg(['min','max']) #range of 'Points, Score & Weigh'"
      ],
      "metadata": {
        "id": "-QdwcZWjgi3P",
        "colab": {
          "base_uri": "https://localhost:8080/",
          "height": 112
        },
        "outputId": "95540411-4cf2-4710-c735-cbd5eefe522c"
      },
      "execution_count": null,
      "outputs": [
        {
          "output_type": "execute_result",
          "data": {
            "text/plain": [
              "     Points  Score  Weigh\n",
              "min    2.76  1.513   14.5\n",
              "max    4.93  5.424   22.9"
            ],
            "text/html": [
              "\n",
              "  <div id=\"df-62524685-675b-40b6-a3de-1b1692e0bd56\" class=\"colab-df-container\">\n",
              "    <div>\n",
              "<style scoped>\n",
              "    .dataframe tbody tr th:only-of-type {\n",
              "        vertical-align: middle;\n",
              "    }\n",
              "\n",
              "    .dataframe tbody tr th {\n",
              "        vertical-align: top;\n",
              "    }\n",
              "\n",
              "    .dataframe thead th {\n",
              "        text-align: right;\n",
              "    }\n",
              "</style>\n",
              "<table border=\"1\" class=\"dataframe\">\n",
              "  <thead>\n",
              "    <tr style=\"text-align: right;\">\n",
              "      <th></th>\n",
              "      <th>Points</th>\n",
              "      <th>Score</th>\n",
              "      <th>Weigh</th>\n",
              "    </tr>\n",
              "  </thead>\n",
              "  <tbody>\n",
              "    <tr>\n",
              "      <th>min</th>\n",
              "      <td>2.76</td>\n",
              "      <td>1.513</td>\n",
              "      <td>14.5</td>\n",
              "    </tr>\n",
              "    <tr>\n",
              "      <th>max</th>\n",
              "      <td>4.93</td>\n",
              "      <td>5.424</td>\n",
              "      <td>22.9</td>\n",
              "    </tr>\n",
              "  </tbody>\n",
              "</table>\n",
              "</div>\n",
              "    <div class=\"colab-df-buttons\">\n",
              "\n",
              "  <div class=\"colab-df-container\">\n",
              "    <button class=\"colab-df-convert\" onclick=\"convertToInteractive('df-62524685-675b-40b6-a3de-1b1692e0bd56')\"\n",
              "            title=\"Convert this dataframe to an interactive table.\"\n",
              "            style=\"display:none;\">\n",
              "\n",
              "  <svg xmlns=\"http://www.w3.org/2000/svg\" height=\"24px\" viewBox=\"0 -960 960 960\">\n",
              "    <path d=\"M120-120v-720h720v720H120Zm60-500h600v-160H180v160Zm220 220h160v-160H400v160Zm0 220h160v-160H400v160ZM180-400h160v-160H180v160Zm440 0h160v-160H620v160ZM180-180h160v-160H180v160Zm440 0h160v-160H620v160Z\"/>\n",
              "  </svg>\n",
              "    </button>\n",
              "\n",
              "  <style>\n",
              "    .colab-df-container {\n",
              "      display:flex;\n",
              "      gap: 12px;\n",
              "    }\n",
              "\n",
              "    .colab-df-convert {\n",
              "      background-color: #E8F0FE;\n",
              "      border: none;\n",
              "      border-radius: 50%;\n",
              "      cursor: pointer;\n",
              "      display: none;\n",
              "      fill: #1967D2;\n",
              "      height: 32px;\n",
              "      padding: 0 0 0 0;\n",
              "      width: 32px;\n",
              "    }\n",
              "\n",
              "    .colab-df-convert:hover {\n",
              "      background-color: #E2EBFA;\n",
              "      box-shadow: 0px 1px 2px rgba(60, 64, 67, 0.3), 0px 1px 3px 1px rgba(60, 64, 67, 0.15);\n",
              "      fill: #174EA6;\n",
              "    }\n",
              "\n",
              "    .colab-df-buttons div {\n",
              "      margin-bottom: 4px;\n",
              "    }\n",
              "\n",
              "    [theme=dark] .colab-df-convert {\n",
              "      background-color: #3B4455;\n",
              "      fill: #D2E3FC;\n",
              "    }\n",
              "\n",
              "    [theme=dark] .colab-df-convert:hover {\n",
              "      background-color: #434B5C;\n",
              "      box-shadow: 0px 1px 3px 1px rgba(0, 0, 0, 0.15);\n",
              "      filter: drop-shadow(0px 1px 2px rgba(0, 0, 0, 0.3));\n",
              "      fill: #FFFFFF;\n",
              "    }\n",
              "  </style>\n",
              "\n",
              "    <script>\n",
              "      const buttonEl =\n",
              "        document.querySelector('#df-62524685-675b-40b6-a3de-1b1692e0bd56 button.colab-df-convert');\n",
              "      buttonEl.style.display =\n",
              "        google.colab.kernel.accessAllowed ? 'block' : 'none';\n",
              "\n",
              "      async function convertToInteractive(key) {\n",
              "        const element = document.querySelector('#df-62524685-675b-40b6-a3de-1b1692e0bd56');\n",
              "        const dataTable =\n",
              "          await google.colab.kernel.invokeFunction('convertToInteractive',\n",
              "                                                    [key], {});\n",
              "        if (!dataTable) return;\n",
              "\n",
              "        const docLinkHtml = 'Like what you see? Visit the ' +\n",
              "          '<a target=\"_blank\" href=https://colab.research.google.com/notebooks/data_table.ipynb>data table notebook</a>'\n",
              "          + ' to learn more about interactive tables.';\n",
              "        element.innerHTML = '';\n",
              "        dataTable['output_type'] = 'display_data';\n",
              "        await google.colab.output.renderOutput(dataTable, element);\n",
              "        const docLink = document.createElement('div');\n",
              "        docLink.innerHTML = docLinkHtml;\n",
              "        element.appendChild(docLink);\n",
              "      }\n",
              "    </script>\n",
              "  </div>\n",
              "\n",
              "\n",
              "<div id=\"df-2cba849f-c5f2-422e-b671-5d0438a7659d\">\n",
              "  <button class=\"colab-df-quickchart\" onclick=\"quickchart('df-2cba849f-c5f2-422e-b671-5d0438a7659d')\"\n",
              "            title=\"Suggest charts\"\n",
              "            style=\"display:none;\">\n",
              "\n",
              "<svg xmlns=\"http://www.w3.org/2000/svg\" height=\"24px\"viewBox=\"0 0 24 24\"\n",
              "     width=\"24px\">\n",
              "    <g>\n",
              "        <path d=\"M19 3H5c-1.1 0-2 .9-2 2v14c0 1.1.9 2 2 2h14c1.1 0 2-.9 2-2V5c0-1.1-.9-2-2-2zM9 17H7v-7h2v7zm4 0h-2V7h2v10zm4 0h-2v-4h2v4z\"/>\n",
              "    </g>\n",
              "</svg>\n",
              "  </button>\n",
              "\n",
              "<style>\n",
              "  .colab-df-quickchart {\n",
              "      --bg-color: #E8F0FE;\n",
              "      --fill-color: #1967D2;\n",
              "      --hover-bg-color: #E2EBFA;\n",
              "      --hover-fill-color: #174EA6;\n",
              "      --disabled-fill-color: #AAA;\n",
              "      --disabled-bg-color: #DDD;\n",
              "  }\n",
              "\n",
              "  [theme=dark] .colab-df-quickchart {\n",
              "      --bg-color: #3B4455;\n",
              "      --fill-color: #D2E3FC;\n",
              "      --hover-bg-color: #434B5C;\n",
              "      --hover-fill-color: #FFFFFF;\n",
              "      --disabled-bg-color: #3B4455;\n",
              "      --disabled-fill-color: #666;\n",
              "  }\n",
              "\n",
              "  .colab-df-quickchart {\n",
              "    background-color: var(--bg-color);\n",
              "    border: none;\n",
              "    border-radius: 50%;\n",
              "    cursor: pointer;\n",
              "    display: none;\n",
              "    fill: var(--fill-color);\n",
              "    height: 32px;\n",
              "    padding: 0;\n",
              "    width: 32px;\n",
              "  }\n",
              "\n",
              "  .colab-df-quickchart:hover {\n",
              "    background-color: var(--hover-bg-color);\n",
              "    box-shadow: 0 1px 2px rgba(60, 64, 67, 0.3), 0 1px 3px 1px rgba(60, 64, 67, 0.15);\n",
              "    fill: var(--button-hover-fill-color);\n",
              "  }\n",
              "\n",
              "  .colab-df-quickchart-complete:disabled,\n",
              "  .colab-df-quickchart-complete:disabled:hover {\n",
              "    background-color: var(--disabled-bg-color);\n",
              "    fill: var(--disabled-fill-color);\n",
              "    box-shadow: none;\n",
              "  }\n",
              "\n",
              "  .colab-df-spinner {\n",
              "    border: 2px solid var(--fill-color);\n",
              "    border-color: transparent;\n",
              "    border-bottom-color: var(--fill-color);\n",
              "    animation:\n",
              "      spin 1s steps(1) infinite;\n",
              "  }\n",
              "\n",
              "  @keyframes spin {\n",
              "    0% {\n",
              "      border-color: transparent;\n",
              "      border-bottom-color: var(--fill-color);\n",
              "      border-left-color: var(--fill-color);\n",
              "    }\n",
              "    20% {\n",
              "      border-color: transparent;\n",
              "      border-left-color: var(--fill-color);\n",
              "      border-top-color: var(--fill-color);\n",
              "    }\n",
              "    30% {\n",
              "      border-color: transparent;\n",
              "      border-left-color: var(--fill-color);\n",
              "      border-top-color: var(--fill-color);\n",
              "      border-right-color: var(--fill-color);\n",
              "    }\n",
              "    40% {\n",
              "      border-color: transparent;\n",
              "      border-right-color: var(--fill-color);\n",
              "      border-top-color: var(--fill-color);\n",
              "    }\n",
              "    60% {\n",
              "      border-color: transparent;\n",
              "      border-right-color: var(--fill-color);\n",
              "    }\n",
              "    80% {\n",
              "      border-color: transparent;\n",
              "      border-right-color: var(--fill-color);\n",
              "      border-bottom-color: var(--fill-color);\n",
              "    }\n",
              "    90% {\n",
              "      border-color: transparent;\n",
              "      border-bottom-color: var(--fill-color);\n",
              "    }\n",
              "  }\n",
              "</style>\n",
              "\n",
              "  <script>\n",
              "    async function quickchart(key) {\n",
              "      const quickchartButtonEl =\n",
              "        document.querySelector('#' + key + ' button');\n",
              "      quickchartButtonEl.disabled = true;  // To prevent multiple clicks.\n",
              "      quickchartButtonEl.classList.add('colab-df-spinner');\n",
              "      try {\n",
              "        const charts = await google.colab.kernel.invokeFunction(\n",
              "            'suggestCharts', [key], {});\n",
              "      } catch (error) {\n",
              "        console.error('Error during call to suggestCharts:', error);\n",
              "      }\n",
              "      quickchartButtonEl.classList.remove('colab-df-spinner');\n",
              "      quickchartButtonEl.classList.add('colab-df-quickchart-complete');\n",
              "    }\n",
              "    (() => {\n",
              "      let quickchartButtonEl =\n",
              "        document.querySelector('#df-2cba849f-c5f2-422e-b671-5d0438a7659d button');\n",
              "      quickchartButtonEl.style.display =\n",
              "        google.colab.kernel.accessAllowed ? 'block' : 'none';\n",
              "    })();\n",
              "  </script>\n",
              "</div>\n",
              "\n",
              "    </div>\n",
              "  </div>\n"
            ],
            "application/vnd.google.colaboratory.intrinsic+json": {
              "type": "dataframe",
              "summary": "{\n  \"name\": \"data[['Points','Score','Weigh']]\",\n  \"rows\": 2,\n  \"fields\": [\n    {\n      \"column\": \"Points\",\n      \"properties\": {\n        \"dtype\": \"number\",\n        \"std\": 1.534421715174808,\n        \"min\": 2.76,\n        \"max\": 4.93,\n        \"num_unique_values\": 2,\n        \"samples\": [\n          4.93,\n          2.76\n        ],\n        \"semantic_type\": \"\",\n        \"description\": \"\"\n      }\n    },\n    {\n      \"column\": \"Score\",\n      \"properties\": {\n        \"dtype\": \"number\",\n        \"std\": 2.7654946212205878,\n        \"min\": 1.513,\n        \"max\": 5.424,\n        \"num_unique_values\": 2,\n        \"samples\": [\n          5.424,\n          1.513\n        ],\n        \"semantic_type\": \"\",\n        \"description\": \"\"\n      }\n    },\n    {\n      \"column\": \"Weigh\",\n      \"properties\": {\n        \"dtype\": \"number\",\n        \"std\": 5.939696961966998,\n        \"min\": 14.5,\n        \"max\": 22.9,\n        \"num_unique_values\": 2,\n        \"samples\": [\n          22.9,\n          14.5\n        ],\n        \"semantic_type\": \"\",\n        \"description\": \"\"\n      }\n    }\n  ]\n}"
            }
          },
          "metadata": {},
          "execution_count": 43
        }
      ]
    },
    {
      "cell_type": "code",
      "source": [],
      "metadata": {
        "id": "7UJ_vKk7iO8b"
      },
      "execution_count": null,
      "outputs": []
    },
    {
      "cell_type": "markdown",
      "source": [
        "# ***Q9.***"
      ],
      "metadata": {
        "id": "5BaCLw0u59xs"
      }
    },
    {
      "cell_type": "markdown",
      "source": [
        "Q9_A"
      ],
      "metadata": {
        "id": "XhxSh27qXX7T"
      }
    },
    {
      "cell_type": "code",
      "source": [
        "D9a = pd.read_csv('Q9_a.csv')"
      ],
      "metadata": {
        "id": "cR4Sc8bw6Cqx"
      },
      "execution_count": null,
      "outputs": []
    },
    {
      "cell_type": "code",
      "source": [
        "D9a.mean()"
      ],
      "metadata": {
        "id": "5sN6R8hPaYnF",
        "colab": {
          "base_uri": "https://localhost:8080/"
        },
        "outputId": "6cfdcf6f-cd0e-4b9b-8747-501cda9d629a"
      },
      "execution_count": null,
      "outputs": [
        {
          "output_type": "execute_result",
          "data": {
            "text/plain": [
              "Index    25.50\n",
              "speed    15.40\n",
              "dist     42.98\n",
              "dtype: float64"
            ]
          },
          "metadata": {},
          "execution_count": 45
        }
      ]
    },
    {
      "cell_type": "code",
      "source": [
        "D9a.median()"
      ],
      "metadata": {
        "id": "oyOISEd-adhI",
        "colab": {
          "base_uri": "https://localhost:8080/"
        },
        "outputId": "67b36714-68fa-4cf0-fb69-a8ffb54512e9"
      },
      "execution_count": null,
      "outputs": [
        {
          "output_type": "execute_result",
          "data": {
            "text/plain": [
              "Index    25.5\n",
              "speed    15.0\n",
              "dist     36.0\n",
              "dtype: float64"
            ]
          },
          "metadata": {},
          "execution_count": 46
        }
      ]
    },
    {
      "cell_type": "code",
      "source": [
        "D9a['dist'].skew()"
      ],
      "metadata": {
        "id": "7bOoATlsXpSL",
        "colab": {
          "base_uri": "https://localhost:8080/"
        },
        "outputId": "d16eca61-206a-4bf1-eccd-e1766e216737"
      },
      "execution_count": null,
      "outputs": [
        {
          "output_type": "execute_result",
          "data": {
            "text/plain": [
              "0.8068949601674215"
            ]
          },
          "metadata": {},
          "execution_count": 47
        }
      ]
    },
    {
      "cell_type": "code",
      "source": [
        "D9a['dist'].kurt()"
      ],
      "metadata": {
        "id": "5gCmoQllZNUh",
        "colab": {
          "base_uri": "https://localhost:8080/"
        },
        "outputId": "8ed3c669-8397-4c32-d60d-0c804392b821"
      },
      "execution_count": null,
      "outputs": [
        {
          "output_type": "execute_result",
          "data": {
            "text/plain": [
              "0.4050525816795765"
            ]
          },
          "metadata": {},
          "execution_count": 48
        }
      ]
    },
    {
      "cell_type": "code",
      "source": [
        "D9a['speed'].skew()"
      ],
      "metadata": {
        "id": "ZUYcobcKXwtY",
        "colab": {
          "base_uri": "https://localhost:8080/"
        },
        "outputId": "2c0209d0-a0b2-455f-a951-68c1132bd5db"
      },
      "execution_count": null,
      "outputs": [
        {
          "output_type": "execute_result",
          "data": {
            "text/plain": [
              "-0.11750986144663393"
            ]
          },
          "metadata": {},
          "execution_count": 49
        }
      ]
    },
    {
      "cell_type": "code",
      "source": [
        "D9a['speed'].kurt()"
      ],
      "metadata": {
        "id": "8fLjZUELZFO9",
        "colab": {
          "base_uri": "https://localhost:8080/"
        },
        "outputId": "6822d345-9c62-4b4a-b9e5-2ee5b47664ba"
      },
      "execution_count": null,
      "outputs": [
        {
          "output_type": "execute_result",
          "data": {
            "text/plain": [
              "-0.5089944204057617"
            ]
          },
          "metadata": {},
          "execution_count": 50
        }
      ]
    },
    {
      "cell_type": "markdown",
      "source": [
        "Q9_B"
      ],
      "metadata": {
        "id": "8LuQS45MZYJO"
      }
    },
    {
      "cell_type": "code",
      "source": [
        "D9b = pd.read_csv('Q9_b.csv')"
      ],
      "metadata": {
        "id": "T-Or_r8vZMgG"
      },
      "execution_count": null,
      "outputs": []
    },
    {
      "cell_type": "code",
      "source": [
        "D9b.mean()"
      ],
      "metadata": {
        "id": "eP_eGsjihRTQ",
        "colab": {
          "base_uri": "https://localhost:8080/"
        },
        "outputId": "9bf5a339-7b8a-4348-afa7-a28ee1b1e31c"
      },
      "execution_count": null,
      "outputs": [
        {
          "output_type": "execute_result",
          "data": {
            "text/plain": [
              "Unnamed: 0     41.000000\n",
              "SP            121.540272\n",
              "WT             32.412577\n",
              "dtype: float64"
            ]
          },
          "metadata": {},
          "execution_count": 52
        }
      ]
    },
    {
      "cell_type": "code",
      "source": [
        "D9b.median()"
      ],
      "metadata": {
        "id": "9n0MrwZ1hVuJ",
        "colab": {
          "base_uri": "https://localhost:8080/"
        },
        "outputId": "6a9fd32d-b386-49e9-d1c3-3e4b03086a75"
      },
      "execution_count": null,
      "outputs": [
        {
          "output_type": "execute_result",
          "data": {
            "text/plain": [
              "Unnamed: 0     41.000000\n",
              "SP            118.208698\n",
              "WT             32.734518\n",
              "dtype: float64"
            ]
          },
          "metadata": {},
          "execution_count": 53
        }
      ]
    },
    {
      "cell_type": "code",
      "source": [
        "D9b['SP'].skew()"
      ],
      "metadata": {
        "id": "SoWXpZ8VZdol",
        "colab": {
          "base_uri": "https://localhost:8080/"
        },
        "outputId": "ddff679a-9d00-4fd9-b543-b6d15e416e78"
      },
      "execution_count": null,
      "outputs": [
        {
          "output_type": "execute_result",
          "data": {
            "text/plain": [
              "1.6114501961773586"
            ]
          },
          "metadata": {},
          "execution_count": 54
        }
      ]
    },
    {
      "cell_type": "code",
      "source": [
        "D9b['SP'].kurt()"
      ],
      "metadata": {
        "id": "eDYEUZsiZhXw",
        "colab": {
          "base_uri": "https://localhost:8080/"
        },
        "outputId": "10ba6107-1416-4d6d-bde9-73ff474312ca"
      },
      "execution_count": null,
      "outputs": [
        {
          "output_type": "execute_result",
          "data": {
            "text/plain": [
              "2.9773289437871835"
            ]
          },
          "metadata": {},
          "execution_count": 55
        }
      ]
    },
    {
      "cell_type": "code",
      "source": [
        "D9b['WT'].skew()"
      ],
      "metadata": {
        "id": "WOhMcXCUZq5b",
        "colab": {
          "base_uri": "https://localhost:8080/"
        },
        "outputId": "760619d3-b6ff-44dd-dff9-8e5894741dda"
      },
      "execution_count": null,
      "outputs": [
        {
          "output_type": "execute_result",
          "data": {
            "text/plain": [
              "-0.6147533255357768"
            ]
          },
          "metadata": {},
          "execution_count": 56
        }
      ]
    },
    {
      "cell_type": "code",
      "source": [
        "D9b['WT'].kurt()"
      ],
      "metadata": {
        "id": "TVB_QCbwZwG5",
        "colab": {
          "base_uri": "https://localhost:8080/"
        },
        "outputId": "02483a67-1dea-46e9-a1de-dc947d61a233"
      },
      "execution_count": null,
      "outputs": [
        {
          "output_type": "execute_result",
          "data": {
            "text/plain": [
              "0.9502914910300326"
            ]
          },
          "metadata": {},
          "execution_count": 57
        }
      ]
    },
    {
      "cell_type": "code",
      "source": [],
      "metadata": {
        "id": "MzKO734hZzdK"
      },
      "execution_count": null,
      "outputs": []
    },
    {
      "cell_type": "markdown",
      "source": [
        "# ***Q11.***"
      ],
      "metadata": {
        "id": "pjriSwh4hU7j"
      }
    },
    {
      "cell_type": "code",
      "source": [
        "\n",
        "x = 200  # Sample mean (x̄)\n",
        "s = 30    # Sample standard deviation (s)\n",
        "n = 2000 # Sample size (n)\n",
        "\n",
        "# Degrees of freedom (n - 1)\n",
        "df = n - 1\n"
      ],
      "metadata": {
        "id": "jhco88wHhTkA"
      },
      "execution_count": null,
      "outputs": []
    },
    {
      "cell_type": "code",
      "source": [
        "# t_value for confidence level - 94%\n",
        "CL = 0.94\n",
        "t_value = stats.t.ppf((1+CL)/2, df)\n",
        "\n",
        "# max value = x + t_value * (s/√n)\n",
        "# min value = x-t_value * (s/√n)\n",
        "#margin of error (ME) = t_value * (s/√n)\n",
        "# Calculate the margin of error\n",
        "ME = t_value * (s / (n ** 0.5))\n",
        "\n",
        "# Calculate the confidence interval\n",
        "min_value = x - np.round(ME,4)\n",
        "max_value = x + np.round(ME,4)\n",
        "\n",
        "# Print the confidence interval\n",
        "print(\"94% Confidence Interval:\", (min_value,max_value))"
      ],
      "metadata": {
        "id": "K25SZxoIk3Gj",
        "colab": {
          "base_uri": "https://localhost:8080/"
        },
        "outputId": "bfa9c526-d6c4-4b20-ba35-76e27ef35533"
      },
      "execution_count": null,
      "outputs": [
        {
          "output_type": "stream",
          "name": "stdout",
          "text": [
            "94% Confidence Interval: (198.7376, 201.2624)\n"
          ]
        }
      ]
    },
    {
      "cell_type": "code",
      "source": [
        "# t_value for confidence level - 96%\n",
        "CL = 0.96\n",
        "t_value = stats.t.ppf((1+CL)/2, df)\n",
        "\n",
        "# max value = x + t_value * (s/√n)\n",
        "# min value = x-t_value * (s/√n)\n",
        "#margin of error (ME) = t_value * (s/√n)\n",
        "# Calculate the margin of error\n",
        "ME = t_value * (s / (n ** 0.5))\n",
        "\n",
        "# Calculate the confidence interval\n",
        "min_value = x - np.round(ME,4)\n",
        "max_value = x + np.round(ME,4)\n",
        "\n",
        "# Print the confidence interval\n",
        "print(\"96% Confidence Interval:\", (min_value,max_value))"
      ],
      "metadata": {
        "id": "PwxHMyMXlEWm",
        "colab": {
          "base_uri": "https://localhost:8080/"
        },
        "outputId": "d8a91563-3c92-4895-8625-ec3957475c3d"
      },
      "execution_count": null,
      "outputs": [
        {
          "output_type": "stream",
          "name": "stdout",
          "text": [
            "96% Confidence Interval: (198.6214, 201.3786)\n"
          ]
        }
      ]
    },
    {
      "cell_type": "code",
      "source": [
        "# t_value for confidence level - 98%\n",
        "CL = 0.98\n",
        "t_value = stats.t.ppf((1+CL)/2, df)\n",
        "\n",
        "# max value = x + t_value * (s/√n)\n",
        "# min value = x-t_value * (s/√n)\n",
        "#margin of error (ME) = t_value * (s/√n)\n",
        "# Calculate the margin of error\n",
        "ME = t_value * (s / (n ** 0.5))\n",
        "\n",
        "# Calculate the confidence interval\n",
        "min_value = x - np.round(ME,4)\n",
        "max_value = x + np.round(ME,4)\n",
        "\n",
        "# Print the confidence interval\n",
        "print(\"98% Confidence Interval:\", (min_value,max_value))"
      ],
      "metadata": {
        "id": "6CKEq4WslFjp",
        "colab": {
          "base_uri": "https://localhost:8080/"
        },
        "outputId": "7443f9da-ff77-42dd-9b9d-39d97f301bb9"
      },
      "execution_count": null,
      "outputs": [
        {
          "output_type": "stream",
          "name": "stdout",
          "text": [
            "98% Confidence Interval: (198.4382, 201.5618)\n"
          ]
        }
      ]
    },
    {
      "cell_type": "markdown",
      "source": [
        "***Alternatively, Can also use the following codes -***"
      ],
      "metadata": {
        "id": "UPOllZ81NUOv"
      }
    },
    {
      "cell_type": "code",
      "source": [
        "#Checking the confidence interval for Confidence level of 94%\n",
        "ci_94 = stats.t.interval(0.94, df,\n",
        "loc = x,\n",
        "scale = s)\n",
        "print( 'Gain at 94% confidence interval is:',np.round(ci_94,4))"
      ],
      "metadata": {
        "id": "yMF9yMmWNTeE",
        "colab": {
          "base_uri": "https://localhost:8080/"
        },
        "outputId": "c5bc55d3-3a40-46e3-8989-e6dc5d6ed2f2"
      },
      "execution_count": null,
      "outputs": [
        {
          "output_type": "stream",
          "name": "stdout",
          "text": [
            "Gain at 94% confidence interval is: [143.5442 256.4558]\n"
          ]
        }
      ]
    },
    {
      "cell_type": "code",
      "source": [
        "#Checking the confidence interval for Confidence level of 96%\n",
        "ci_96 = stats.t.interval(0.96, df,\n",
        "loc = x,\n",
        "scale = s)\n",
        "print( 'Gain at 96% confidence interval is:', np.round(ci_96, 4))"
      ],
      "metadata": {
        "id": "uTakKVgEdfuO",
        "colab": {
          "base_uri": "https://localhost:8080/"
        },
        "outputId": "77952e54-91cb-4619-f847-7636fff6506e"
      },
      "execution_count": null,
      "outputs": [
        {
          "output_type": "stream",
          "name": "stdout",
          "text": [
            "Gain at 96% confidence interval is: [138.3473 261.6527]\n"
          ]
        }
      ]
    },
    {
      "cell_type": "code",
      "source": [
        "#Checking the confidence interval for Confidence level of 98%\n",
        "ci_98 = stats.t.interval(0.98, df,\n",
        "loc = x,\n",
        "scale = s)\n",
        "print( 'Gain at 98% confidence interval is:', np.round(ci_98, 4))"
      ],
      "metadata": {
        "id": "bSEO-nuqdoP8",
        "colab": {
          "base_uri": "https://localhost:8080/"
        },
        "outputId": "dbd59ae8-67c0-45f1-8881-7405bf70f7b9"
      },
      "execution_count": null,
      "outputs": [
        {
          "output_type": "stream",
          "name": "stdout",
          "text": [
            "Gain at 98% confidence interval is: [130.1536 269.8464]\n"
          ]
        }
      ]
    },
    {
      "cell_type": "markdown",
      "source": [
        "# ***Q12.***"
      ],
      "metadata": {
        "id": "IAnY8MRMYD9f"
      }
    },
    {
      "cell_type": "code",
      "source": [
        "# Student scores\n",
        "# creating a list to perform statistical calculations\n",
        "scores = [34, 36, 36, 38, 38, 39, 39, 40, 40, 41, 41, 41, 41, 42, 42, 45, 49, 56]\n",
        "\n",
        "# Mean\n",
        "mean = np.mean(scores)\n",
        "print(\"Mean:\", mean)\n",
        "\n",
        "# Median\n",
        "median = np.median(scores)\n",
        "print(\"Median:\", median)\n",
        "\n",
        "# Variance\n",
        "variance = np.var(scores)\n",
        "print(\"Variance:\", variance)\n",
        "\n",
        "# Standard deviation\n",
        "std_deviation = np.std(scores)\n",
        "print(\"Standard Deviation:\", std_deviation)\n"
      ],
      "metadata": {
        "id": "SmgMmAx_RJw8",
        "colab": {
          "base_uri": "https://localhost:8080/"
        },
        "outputId": "1d94701d-fff4-454c-8785-ef3d930ab69b"
      },
      "execution_count": null,
      "outputs": [
        {
          "output_type": "stream",
          "name": "stdout",
          "text": [
            "Mean: 41.0\n",
            "Median: 40.5\n",
            "Variance: 24.11111111111111\n",
            "Standard Deviation: 4.910306620885412\n"
          ]
        }
      ]
    },
    {
      "cell_type": "code",
      "source": [],
      "metadata": {
        "id": "U8jiqV_-YUe2"
      },
      "execution_count": null,
      "outputs": []
    },
    {
      "cell_type": "markdown",
      "source": [
        "# ***Q20.***"
      ],
      "metadata": {
        "id": "KUWm5liHHsU1"
      }
    },
    {
      "cell_type": "code",
      "source": [
        "#Upload the cars.csv file"
      ],
      "metadata": {
        "id": "x8o5TW0BH7yc"
      },
      "execution_count": null,
      "outputs": []
    },
    {
      "cell_type": "code",
      "source": [
        "#reading the file\n",
        "d20 = pd.read_csv('Cars.csv')"
      ],
      "metadata": {
        "id": "dF8FZVz_CWB3"
      },
      "execution_count": null,
      "outputs": []
    },
    {
      "cell_type": "code",
      "source": [
        "Mpg_mean = np.round(d20['MPG'].mean(),4)\n",
        "Mpg_mean"
      ],
      "metadata": {
        "colab": {
          "base_uri": "https://localhost:8080/"
        },
        "id": "nlUYl615C652",
        "outputId": "6fc70bd3-5a11-4f8a-a056-a37bc5a87370"
      },
      "execution_count": null,
      "outputs": [
        {
          "output_type": "execute_result",
          "data": {
            "text/plain": [
              "34.4221"
            ]
          },
          "metadata": {},
          "execution_count": 68
        }
      ]
    },
    {
      "cell_type": "code",
      "source": [
        "Mpg_std = np.round(d20['MPG'].std(),4)\n",
        "Mpg_std"
      ],
      "metadata": {
        "colab": {
          "base_uri": "https://localhost:8080/"
        },
        "id": "-zE0il4EDKTt",
        "outputId": "e2d76279-60e4-413e-efd1-ccaed177e95b"
      },
      "execution_count": null,
      "outputs": [
        {
          "output_type": "execute_result",
          "data": {
            "text/plain": [
              "9.1314"
            ]
          },
          "metadata": {},
          "execution_count": 69
        }
      ]
    },
    {
      "cell_type": "markdown",
      "source": [
        "***20a.***"
      ],
      "metadata": {
        "id": "iZaZnm2sFE1X"
      }
    },
    {
      "cell_type": "code",
      "source": [
        "#Finding the Probability for MPG > 38\n",
        "print('Probability of MPG > 38 = ',(np.round(1-stats.norm.cdf(38,Mpg_mean,Mpg_std),4)))"
      ],
      "metadata": {
        "colab": {
          "base_uri": "https://localhost:8080/"
        },
        "id": "EXWYhjPBCWAL",
        "outputId": "c343bc39-e311-4782-dada-c4753cdd3fe0"
      },
      "execution_count": null,
      "outputs": [
        {
          "output_type": "stream",
          "name": "stdout",
          "text": [
            "Probability of MPG > 38 =  0.3476\n"
          ]
        }
      ]
    },
    {
      "cell_type": "markdown",
      "source": [
        "***20b.***"
      ],
      "metadata": {
        "id": "mJKC7bHHFHiO"
      }
    },
    {
      "cell_type": "code",
      "source": [
        "#Finding the Probability for MPG < 40\n",
        "print('Probability of MPG < 40 = ',(np.round(stats.norm.cdf(40,Mpg_mean,Mpg_std),4)))"
      ],
      "metadata": {
        "colab": {
          "base_uri": "https://localhost:8080/"
        },
        "id": "FZ0PjngjCV7i",
        "outputId": "85a20bf8-bc75-4078-ac6d-906d254d27fc"
      },
      "execution_count": null,
      "outputs": [
        {
          "output_type": "stream",
          "name": "stdout",
          "text": [
            "Probability of MPG < 40 =  0.7293\n"
          ]
        }
      ]
    },
    {
      "cell_type": "markdown",
      "source": [
        "***20c.***"
      ],
      "metadata": {
        "id": "6o4Ztrl0FePa"
      }
    },
    {
      "cell_type": "code",
      "source": [
        "#Finding the Probability for 20 < MPG < 50\n",
        "c1 = stats.norm.cdf(50,Mpg_mean,Mpg_std)\n",
        "c2 = stats.norm.cdf(20,Mpg_mean,Mpg_std)\n",
        "prob_20c = c1-c2\n",
        "print('Probability of 20 < MPG < 50 = ',(np.round(prob_20c,4)))"
      ],
      "metadata": {
        "colab": {
          "base_uri": "https://localhost:8080/"
        },
        "id": "OZAFqeTDCV2W",
        "outputId": "b144eb14-97a2-4997-bb29-64fb451c37d0"
      },
      "execution_count": null,
      "outputs": [
        {
          "output_type": "stream",
          "name": "stdout",
          "text": [
            "Probability of 20 < MPG < 50 =  0.8989\n"
          ]
        }
      ]
    },
    {
      "cell_type": "markdown",
      "source": [
        "# ***Q21.***"
      ],
      "metadata": {
        "id": "kw8NNL5DQbG4"
      }
    },
    {
      "cell_type": "markdown",
      "source": [
        "***21a.***"
      ],
      "metadata": {
        "id": "p17e3V9hNYP1"
      }
    },
    {
      "cell_type": "code",
      "source": [
        "df_21a = pd.read_csv('Cars.csv')"
      ],
      "metadata": {
        "id": "l_YeCm5dQacu"
      },
      "execution_count": null,
      "outputs": []
    },
    {
      "cell_type": "code",
      "source": [
        "#using box plot\n",
        "plt.boxplot(df_21a)\n",
        "plt.show()"
      ],
      "metadata": {
        "colab": {
          "base_uri": "https://localhost:8080/",
          "height": 430
        },
        "id": "cgr_AcZpNc4B",
        "outputId": "0e03fe55-3b02-4329-ad74-020050ac4db8"
      },
      "execution_count": null,
      "outputs": [
        {
          "output_type": "display_data",
          "data": {
            "text/plain": [
              "<Figure size 640x480 with 1 Axes>"
            ],
            "image/png": "[encoded data removed]"
          },
          "metadata": {}
        }
      ]
    },
    {
      "cell_type": "code",
      "source": [
        "#using distribution plot\n",
        "sns.distplot(df_21a)"
      ],
      "metadata": {
        "colab": {
          "base_uri": "https://localhost:8080/",
          "height": 448
        },
        "id": "jEapSWdoNcvT",
        "outputId": "e2e47c82-6c97-48be-8efc-bd49aedb4169"
      },
      "execution_count": null,
      "outputs": [
        {
          "output_type": "execute_result",
          "data": {
            "text/plain": [
              "<Axes: ylabel='Density'>"
            ]
          },
          "metadata": {},
          "execution_count": 75
        },
        {
          "output_type": "display_data",
          "data": {
            "text/plain": [
              "<Figure size 640x480 with 1 Axes>"
            ],
            "image/png": "[encoded data removed]"
          },
          "metadata": {}
        }
      ]
    },
    {
      "cell_type": "code",
      "source": [
        "#Using the skewness method. If skewness = 0, then it follows a Normal Distribution\n",
        "df_21a.skew()"
      ],
      "metadata": {
        "colab": {
          "base_uri": "https://localhost:8080/"
        },
        "id": "fg33T7r9NctR",
        "outputId": "74c692a4-e5e0-4979-a04d-143b2a004d1d"
      },
      "execution_count": null,
      "outputs": [
        {
          "output_type": "execute_result",
          "data": {
            "text/plain": [
              "HP     1.716216\n",
              "MPG   -0.177947\n",
              "VOL   -0.590197\n",
              "SP     1.611450\n",
              "WT    -0.614753\n",
              "dtype: float64"
            ]
          },
          "metadata": {},
          "execution_count": 76
        }
      ]
    },
    {
      "cell_type": "code",
      "source": [
        "#Using the kurtosis method. If the Kurtosis = 3, then it follows a Normal Distribution\n",
        "df_21a.kurt()"
      ],
      "metadata": {
        "colab": {
          "base_uri": "https://localhost:8080/"
        },
        "id": "JK0y8sJuP5Tv",
        "outputId": "ee6ff991-d602-4136-c100-f5ff9efa4e2d"
      },
      "execution_count": null,
      "outputs": [
        {
          "output_type": "execute_result",
          "data": {
            "text/plain": [
              "HP     2.960025\n",
              "MPG   -0.611679\n",
              "VOL    0.920229\n",
              "SP     2.977329\n",
              "WT     0.950291\n",
              "dtype: float64"
            ]
          },
          "metadata": {},
          "execution_count": 77
        }
      ]
    },
    {
      "cell_type": "markdown",
      "source": [
        "***21b.***"
      ],
      "metadata": {
        "id": "WfFPxa5iQB4_"
      }
    },
    {
      "cell_type": "code",
      "source": [
        "df_21b = pd.read_csv('wc-at.csv')"
      ],
      "metadata": {
        "id": "yx12oMD3P5E2"
      },
      "execution_count": null,
      "outputs": []
    },
    {
      "cell_type": "code",
      "source": [
        "#using box plot\n",
        "plt.boxplot(df_21b)\n",
        "plt.show()"
      ],
      "metadata": {
        "colab": {
          "base_uri": "https://localhost:8080/",
          "height": 430
        },
        "id": "u0Oy6o_yQTzt",
        "outputId": "11c69ff7-90f0-4331-8499-7097b35de64c"
      },
      "execution_count": null,
      "outputs": [
        {
          "output_type": "display_data",
          "data": {
            "text/plain": [
              "<Figure size 640x480 with 1 Axes>"
            ],
            "image/png": "[encoded data removed]"
          },
          "metadata": {}
        }
      ]
    },
    {
      "cell_type": "code",
      "source": [
        "#using distribution plot\n",
        "sns.distplot(df_21b)"
      ],
      "metadata": {
        "colab": {
          "base_uri": "https://localhost:8080/",
          "height": 448
        },
        "id": "i9vIItfVQTwq",
        "outputId": "a6dd14d1-a33e-4c37-f381-45cdfc2cfb13"
      },
      "execution_count": null,
      "outputs": [
        {
          "output_type": "execute_result",
          "data": {
            "text/plain": [
              "<Axes: ylabel='Density'>"
            ]
          },
          "metadata": {},
          "execution_count": 80
        },
        {
          "output_type": "display_data",
          "data": {
            "text/plain": [
              "<Figure size 640x480 with 1 Axes>"
            ],
            "image/png": "[encoded data removed]"
          },
          "metadata": {}
        }
      ]
    },
    {
      "cell_type": "code",
      "source": [
        "#Using the skewness method. If skewness = 0, then it follows a Normal Distribution\n",
        "df_21b.skew()"
      ],
      "metadata": {
        "colab": {
          "base_uri": "https://localhost:8080/"
        },
        "id": "YW3PQ84fQTu9",
        "outputId": "17b63530-c1a6-4281-ed27-8a83573a7a5a"
      },
      "execution_count": null,
      "outputs": [
        {
          "output_type": "execute_result",
          "data": {
            "text/plain": [
              "Waist    0.134056\n",
              "AT       0.584869\n",
              "dtype: float64"
            ]
          },
          "metadata": {},
          "execution_count": 81
        }
      ]
    },
    {
      "cell_type": "code",
      "source": [
        "#Using the kurtosis method. If the Kurtosis = 3, then it follows a Normal Distribution\n",
        "df_21b.kurt()"
      ],
      "metadata": {
        "colab": {
          "base_uri": "https://localhost:8080/"
        },
        "id": "7-z1eVC9Q_Q6",
        "outputId": "c69c602a-5e32-461e-b55c-b858725e1d0b"
      },
      "execution_count": null,
      "outputs": [
        {
          "output_type": "execute_result",
          "data": {
            "text/plain": [
              "Waist   -1.102667\n",
              "AT      -0.285576\n",
              "dtype: float64"
            ]
          },
          "metadata": {},
          "execution_count": 82
        }
      ]
    },
    {
      "cell_type": "markdown",
      "source": [
        "# ***Q22.***"
      ],
      "metadata": {
        "id": "c3OmVFg3T49W"
      }
    },
    {
      "cell_type": "code",
      "source": [
        "# The Z value for 90% Confidence interval is -\n",
        "stats.norm.ppf(0.95) #(cl + alpha/2), i.e., (90+10/2)"
      ],
      "metadata": {
        "id": "TnQ_Iuo8T9fC",
        "colab": {
          "base_uri": "https://localhost:8080/"
        },
        "outputId": "6a864815-ce1a-465b-e7aa-825343866a2b"
      },
      "execution_count": null,
      "outputs": [
        {
          "output_type": "execute_result",
          "data": {
            "text/plain": [
              "1.6448536269514722"
            ]
          },
          "metadata": {},
          "execution_count": 83
        }
      ]
    },
    {
      "cell_type": "code",
      "source": [
        "# The Z value for 94% Confidence interval is -\n",
        "stats.norm.ppf(0.97) #(cl + alpha/2), i.e., (94+6/2)"
      ],
      "metadata": {
        "id": "vwK43ms3Uckh",
        "colab": {
          "base_uri": "https://localhost:8080/"
        },
        "outputId": "6b4c76d1-7ccf-47a7-8ef3-066e15b82e7e"
      },
      "execution_count": null,
      "outputs": [
        {
          "output_type": "execute_result",
          "data": {
            "text/plain": [
              "1.8807936081512509"
            ]
          },
          "metadata": {},
          "execution_count": 84
        }
      ]
    },
    {
      "cell_type": "code",
      "source": [
        "# The Z value for 60% Confidence interval is -\n",
        "stats.norm.ppf(0.80) #(cl + alpha/2), i.e., (60+40/2)"
      ],
      "metadata": {
        "id": "jgDthPqWUmNN",
        "colab": {
          "base_uri": "https://localhost:8080/"
        },
        "outputId": "8b3fc6b7-e381-4e9c-8d03-3e92418e6e0b"
      },
      "execution_count": null,
      "outputs": [
        {
          "output_type": "execute_result",
          "data": {
            "text/plain": [
              "0.8416212335729143"
            ]
          },
          "metadata": {},
          "execution_count": 85
        }
      ]
    },
    {
      "cell_type": "code",
      "source": [],
      "metadata": {
        "id": "SVNLzdSMUsfZ"
      },
      "execution_count": null,
      "outputs": []
    },
    {
      "cell_type": "markdown",
      "source": [
        "# ***Q23.***"
      ],
      "metadata": {
        "id": "GRLNqPjiVv6-"
      }
    },
    {
      "cell_type": "code",
      "source": [
        "# The t value for 95% Confidence interval is -\n",
        "stats.t.ppf(0.975,24) #(CL+alpha/2) = 95+5/2 = 0.975 & df = 24"
      ],
      "metadata": {
        "id": "Xyo0b5mSVwqp",
        "colab": {
          "base_uri": "https://localhost:8080/"
        },
        "outputId": "b88e7650-45cb-447b-bc99-697bc8c5818a"
      },
      "execution_count": null,
      "outputs": [
        {
          "output_type": "execute_result",
          "data": {
            "text/plain": [
              "2.0638985616280205"
            ]
          },
          "metadata": {},
          "execution_count": 86
        }
      ]
    },
    {
      "cell_type": "code",
      "source": [
        "# The t value for 96% Confidence interval is -\n",
        "stats.t.ppf(0.98,24) #(CL+alpha/2) = 96+4/2 = 0.98 & df = 24"
      ],
      "metadata": {
        "id": "1JPJppWJe-tS",
        "colab": {
          "base_uri": "https://localhost:8080/"
        },
        "outputId": "783ac9db-5f30-4a6b-dc81-e6e78da45b03"
      },
      "execution_count": null,
      "outputs": [
        {
          "output_type": "execute_result",
          "data": {
            "text/plain": [
              "2.1715446760080677"
            ]
          },
          "metadata": {},
          "execution_count": 87
        }
      ]
    },
    {
      "cell_type": "code",
      "source": [
        "# The t value for 99% Confidence interval is -\n",
        "stats.t.ppf(0.995,24) #(CL+alpha/2) = 99+1/2 = 0.995 & df = 24"
      ],
      "metadata": {
        "id": "vdnRaD9BfAFt",
        "colab": {
          "base_uri": "https://localhost:8080/"
        },
        "outputId": "9f0da5d4-2bd4-4bb4-e661-577727c776e6"
      },
      "execution_count": null,
      "outputs": [
        {
          "output_type": "execute_result",
          "data": {
            "text/plain": [
              "2.796939504772804"
            ]
          },
          "metadata": {},
          "execution_count": 88
        }
      ]
    },
    {
      "cell_type": "markdown",
      "source": [
        "# ***Q24.***"
      ],
      "metadata": {
        "id": "bulKoGzPrCa-"
      }
    },
    {
      "cell_type": "code",
      "source": [
        "# Parametric Testing\n",
        "\n",
        "# Step 1 - Identifying the Null and alternate hypothesis\n",
        "# Ho = Null Hypothesis : average life of a bulb > 260 (u=270)\n",
        "# H1 = Alternate Hypothesis : average life of a bulb <= 260\n",
        "\n",
        "# Step 2 - Identifying the test statistics (z or t test)\n",
        "# As we know standard deviation of the sample we use - t-test\n",
        "\n",
        "# Step 3 - significance level\n",
        "alpha_value = 0.05\n",
        "\n",
        "# probability value using t-test\n",
        "# (x-u)/s/√n\n",
        "x = 260 # sample mean\n",
        "u = 270 # population mean\n",
        "n = 18  # sample size\n",
        "s = 90  # sample standard deviation\n",
        "\n",
        "# Step 4 - t-statistical value\n",
        "part_1 = x-u\n",
        "part_2 =s/(np.sqrt(n))\n",
        "t_stat = part_1/part_2\n",
        "print('t-statistical value = ',np.round(t_stat,3))\n",
        "\n",
        "# Step 5 - p-value\n",
        "df = n-1\n",
        "p_value = stats.t.cdf(t_stat,df)\n",
        "print('p-value = ',np.round(p_value,3))\n"
      ],
      "metadata": {
        "colab": {
          "base_uri": "https://localhost:8080/"
        },
        "id": "7t-3bVDSrBqp",
        "outputId": "e07d7515-1368-4698-e4bd-d4309c4da7dc"
      },
      "execution_count": 2,
      "outputs": [
        {
          "output_type": "stream",
          "name": "stdout",
          "text": [
            "t-statistical value =  -0.471\n",
            "p-value =  0.322\n"
          ]
        }
      ]
    },
    {
      "cell_type": "code",
      "source": [
        "# As p-value(0.322) > 0.05 we accept the Ho hypothesis"
      ],
      "metadata": {
        "id": "1v1VFZl8wQxH"
      },
      "execution_count": null,
      "outputs": []
    }
  ]
}