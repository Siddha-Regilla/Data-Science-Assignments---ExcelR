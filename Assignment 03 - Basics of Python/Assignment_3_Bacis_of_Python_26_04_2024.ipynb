{
  "nbformat": 4,
  "nbformat_minor": 0,
  "metadata": {
    "colab": {
      "provenance": []
    },
    "kernelspec": {
      "name": "python3",
      "display_name": "Python 3"
    },
    "language_info": {
      "name": "python"
    }
  },
  "cells": [
    {
      "cell_type": "markdown",
      "source": [
        "***Q1.***\n",
        "\n",
        "Rules of a prime number -\n",
        "\n",
        "1. The number can only be divisible by 1 and itself.\n",
        "2. No 2 consecutive numbers can be prime numbers except 2 and 3.\n",
        "3. If the number is < or = to 1 then its not a prime number"
      ],
      "metadata": {
        "id": "LDRGtBhd9Mt6"
      }
    },
    {
      "cell_type": "code",
      "execution_count": 1,
      "metadata": {
        "colab": {
          "base_uri": "https://localhost:8080/"
        },
        "id": "VPKEvZH32ZE9",
        "outputId": "200fc15c-16a8-436b-cefa-37e3d8e7de22"
      },
      "outputs": [
        {
          "output_type": "stream",
          "name": "stdout",
          "text": [
            "Enter a number to check if it's prime: 23\n",
            "23 is a prime number.\n"
          ]
        }
      ],
      "source": [
        "# We are creating a user-defined function to identify prime numbers.\n",
        "def is_prime(n):\n",
        "    if n <= 1:            # If number is less than or equal to 1, it's not prime\n",
        "        return False\n",
        "\n",
        "# Check divisibility by integers from 2 to sqrt(n).\n",
        "# For every number greater than the square root there is a corresponding smaller number\n",
        "# To avoid a redundant computation we terminate it upto the squareroot\n",
        "# + 1 is added as in python, the range function includes the lower bound but excludes the upper bound\n",
        "\n",
        "    for i in range(2, int(n**0.5) + 1):\n",
        "        if n % i == 0:\n",
        "            return False  # If the value is divisible by any number, its not a prime number\n",
        "\n",
        "    return True  # If not divisible by any number, its a prime number\n",
        "\n",
        "# After defining the above function,\n",
        "# Testing the function\n",
        "# As the default datatype in Python is string we convert it to int\n",
        "number = int(input(\"Enter a number to check if it's prime: \"))\n",
        "\n",
        "if is_prime(number):\n",
        "    print(number, \"is a prime number.\")\n",
        "else:\n",
        "    print(number, \"is not a prime number.\")\n"
      ]
    },
    {
      "cell_type": "markdown",
      "source": [
        "***Q2.***\n",
        "\n",
        "Product of random numbers in the range of 1 - 100"
      ],
      "metadata": {
        "id": "zZk0sWk7gaZK"
      }
    },
    {
      "cell_type": "code",
      "source": [
        "# Importing random to generate random numbers\n",
        "import random\n",
        "\n",
        "# Assigning and generating two random numbers between 1 and 100 (inclusive) using the random library\n",
        "num1 = random.randint(1, 100)\n",
        "num2 = random.randint(1, 100)\n",
        "\n",
        "# Calculating the product of the random numbers generated above\n",
        "ans = num1 * num2\n",
        "\n",
        "# Asking the user for the product of the numbers\n",
        "user_ans = int(input(f\"What is the product of {num1} and {num2}? = \"))\n",
        "\n",
        "# Comparing the user's answer with the correct answer calculated above\n",
        "if user_ans == ans:\n",
        "  print(\"Congratulations! The Answer is Correct\")\n",
        "else:\n",
        "  print(\"Sorry, The correct answer is\", ans)\n"
      ],
      "metadata": {
        "colab": {
          "base_uri": "https://localhost:8080/"
        },
        "id": "Mbqfy9X9vjiH",
        "outputId": "77da1419-0180-44e7-a515-c7c921352ff0"
      },
      "execution_count": 6,
      "outputs": [
        {
          "output_type": "stream",
          "name": "stdout",
          "text": [
            "What is the product of 60 and 95? = 5700\n",
            "Congratulations! The Answer is Correct\n"
          ]
        }
      ]
    },
    {
      "cell_type": "markdown",
      "source": [
        "***Q3.***"
      ],
      "metadata": {
        "id": "-9O3G5bHaGdz"
      }
    },
    {
      "cell_type": "markdown",
      "source": [
        "Code for even squares falling in the range of 100 - 200.\n",
        "In the for loop, we consider 201 instead of 200 as in python, the lower bound (100) is inclusive where as the upper bound (201) is exclusive"
      ],
      "metadata": {
        "id": "h_ycnVbUaMHK"
      }
    },
    {
      "cell_type": "code",
      "source": [
        "print(\"Even squares of numbers falling in the range of 100 - 200 are = \")\n",
        "for x in range (100,201):\n",
        "  if x % 2 == 0:\n",
        "    print(f\"{x} x {x} = \",x**2)"
      ],
      "metadata": {
        "id": "pVxXd1V1gl1X"
      },
      "execution_count": null,
      "outputs": []
    },
    {
      "cell_type": "markdown",
      "source": [
        "Code for odd squares falling in the range of 100 - 200."
      ],
      "metadata": {
        "id": "nxDL1rJOc0-M"
      }
    },
    {
      "cell_type": "code",
      "source": [
        "print(\"Odd squares of numbers falling in the range of 100 - 200 are = \")\n",
        "for x in range (100,201):\n",
        "  if x % 2 != 0:\n",
        "    print(f\"{x} x {x} = \",x**2)"
      ],
      "metadata": {
        "colab": {
          "base_uri": "https://localhost:8080/"
        },
        "id": "KbaqDPsKbJ7w",
        "outputId": "daaafc2f-a55a-403f-9965-56be959a9746"
      },
      "execution_count": 9,
      "outputs": [
        {
          "output_type": "stream",
          "name": "stdout",
          "text": [
            "Odd squares of numbers falling in the range of 100 - 200 are = \n",
            "101 x 101 =  10201\n",
            "103 x 103 =  10609\n",
            "105 x 105 =  11025\n",
            "107 x 107 =  11449\n",
            "109 x 109 =  11881\n",
            "111 x 111 =  12321\n",
            "113 x 113 =  12769\n",
            "115 x 115 =  13225\n",
            "117 x 117 =  13689\n",
            "119 x 119 =  14161\n",
            "121 x 121 =  14641\n",
            "123 x 123 =  15129\n",
            "125 x 125 =  15625\n",
            "127 x 127 =  16129\n",
            "129 x 129 =  16641\n",
            "131 x 131 =  17161\n",
            "133 x 133 =  17689\n",
            "135 x 135 =  18225\n",
            "137 x 137 =  18769\n",
            "139 x 139 =  19321\n",
            "141 x 141 =  19881\n",
            "143 x 143 =  20449\n",
            "145 x 145 =  21025\n",
            "147 x 147 =  21609\n",
            "149 x 149 =  22201\n",
            "151 x 151 =  22801\n",
            "153 x 153 =  23409\n",
            "155 x 155 =  24025\n",
            "157 x 157 =  24649\n",
            "159 x 159 =  25281\n",
            "161 x 161 =  25921\n",
            "163 x 163 =  26569\n",
            "165 x 165 =  27225\n",
            "167 x 167 =  27889\n",
            "169 x 169 =  28561\n",
            "171 x 171 =  29241\n",
            "173 x 173 =  29929\n",
            "175 x 175 =  30625\n",
            "177 x 177 =  31329\n",
            "179 x 179 =  32041\n",
            "181 x 181 =  32761\n",
            "183 x 183 =  33489\n",
            "185 x 185 =  34225\n",
            "187 x 187 =  34969\n",
            "189 x 189 =  35721\n",
            "191 x 191 =  36481\n",
            "193 x 193 =  37249\n",
            "195 x 195 =  38025\n",
            "197 x 197 =  38809\n",
            "199 x 199 =  39601\n"
          ]
        }
      ]
    },
    {
      "cell_type": "markdown",
      "source": [
        "***Q4.***\n",
        "The below code shows the following steps -\n",
        "1. We define a function that counts the occurrences of each word in a given text\n",
        "  \n",
        "  a. We divide the sentence into words.\n",
        "  \n",
        "  b. Create an empty dictionary.\n",
        "\n",
        "  c. Then we handle punctuations and empty strings.\n",
        "\n",
        "  d. We convert the sentence into lowercase to avoid case-sensitive counting.\n",
        "\n",
        "  e. We create an if-else statement that iterates the dictionary, with unique keys, i.e., the words in the sentence provided by the user. The values are the counts of words used in the sentence.\n",
        "2. We provide an input statement for the user to test on\n",
        "3. It utilises the above created user-defined function to count the words in the sentence.\n",
        "4. Then using the for loop we print the unique words with their count"
      ],
      "metadata": {
        "id": "bo2HFbUK1ETN"
      }
    },
    {
      "cell_type": "code",
      "source": [
        "#Step 1 - Defining the function\n",
        "def word_counter(text):\n",
        "  words = text.split() # .split() is a predefined function to split the sentence into words\n",
        "  # An empty dictionary is created which will get added with words as the keys and word count as values with every iteration\n",
        "  word_count = {}\n",
        "  for word in words:\n",
        "    word = word.strip(\".,!?:;-\") # .strip() is a predefined function to remove what is mentioned in the ()\n",
        "    word = word.lower() # .lower() is a predefined function to convert the word/sentence into lower case\n",
        "    if word in word_count:\n",
        "      word_count[word]+= 1\n",
        "    else:\n",
        "      word_count[word] = 1\n",
        "  return word_count\n",
        "# Step 2 - Providing an input statement for the user to test on\n",
        "input_text = input(\"Enter a sentence = \")\n",
        "# Step 3 - Utilizing the above created user-defined function to test the sentence\n",
        "word_count = word_counter(input_text)\n",
        "# Step 4 - Printing the unique words with their values\n",
        "# as printing word_count directly would print the dictionary, we use a for loop.\n",
        "# It helps customise the print statement better\n",
        "for word, count in word_count.items():\n",
        "  print(f'{word} = {count}')\n",
        "\n"
      ],
      "metadata": {
        "colab": {
          "base_uri": "https://localhost:8080/"
        },
        "id": "l4tWkZgB6dpf",
        "outputId": "823fc0d5-0c7d-4354-e4d8-9f1bf5bcae27"
      },
      "execution_count": 3,
      "outputs": [
        {
          "output_type": "stream",
          "name": "stdout",
          "text": [
            "Enter a sentence = Hi My name is Siddha. How do you do? I hope you are doing good. Wishing you a good day. Bye!\n",
            "hi = 1\n",
            "my = 1\n",
            "name = 1\n",
            "is = 1\n",
            "siddha = 1\n",
            "how = 1\n",
            "do = 2\n",
            "you = 3\n",
            "i = 1\n",
            "hope = 1\n",
            "are = 1\n",
            "doing = 1\n",
            "good = 2\n",
            "wishing = 1\n",
            "a = 1\n",
            "day = 1\n",
            "bye = 1\n"
          ]
        }
      ]
    },
    {
      "cell_type": "markdown",
      "source": [
        "***Q5.***\n",
        "\n",
        "Code to identify Palindromes"
      ],
      "metadata": {
        "id": "80kMBAo9GV6T"
      }
    },
    {
      "cell_type": "code",
      "source": [
        "def is_palindrome(s):\n",
        "    #s = s.lower()\n",
        "    #s = s.strip(',.?!;:')  # Remove punctuation\n",
        "    #s = s.replace(' ', '')  # Remove spaces\n",
        "    # Removing the spaces, converting the text to lower case and removing all characters apart from alpha numeric\n",
        "    s = ''.join(char.lower() for char in s if char.isalnum())\n",
        "    left_i, right_i = 0, len(s) - 1\n",
        "    while left_i < right_i:\n",
        "        if s[left_i] != s[right_i]:\n",
        "            return False\n",
        "        left_i += 1\n",
        "        right_i -= 1\n",
        "    return True\n",
        "\n",
        "user_input = input('Enter a sentence: ')\n",
        "if is_palindrome(user_input):\n",
        "  print('Congratulations! ', user_input, ' is a Palindrome!')\n",
        "else :\n",
        "  print('Sorry! ', user_input, ' is not a Palindrome')\n"
      ],
      "metadata": {
        "colab": {
          "base_uri": "https://localhost:8080/"
        },
        "id": "tLW1xrayKXBD",
        "outputId": "b1060c9c-4490-4319-d16f-9c268239be85"
      },
      "execution_count": 15,
      "outputs": [
        {
          "output_type": "stream",
          "name": "stdout",
          "text": [
            "Enter a sentence: A man, a plan, a canal, Panama\n",
            "Congratulations!  A man, a plan, a canal, Panama  is a Palindrome!\n"
          ]
        }
      ]
    },
    {
      "cell_type": "code",
      "source": [],
      "metadata": {
        "id": "mjfbn1owNKCq"
      },
      "execution_count": null,
      "outputs": []
    }
  ]
}